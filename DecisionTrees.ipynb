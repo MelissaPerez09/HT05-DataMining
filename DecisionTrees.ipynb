{
  "cells": [
    {
      "cell_type": "markdown",
      "metadata": {
        "id": "ALBG0oq_hWky"
      },
      "source": [
        "# Data Mining - Decision Trees 🌳\n"
      ]
    },
    {
      "cell_type": "markdown",
      "metadata": {
        "id": "26O_x_r2iNFM"
      },
      "source": [
        "**Authors:** [Melissa Perez](https://github.com/MelissaPerez09), [Adrian Flores](https://github.com/adrianRFlores), [Andrea Ramirez](https://github.com/Andrea-gt)\n",
        "\n",
        "**Description:** Construcción y comparación de diferentes modelos de clasificación para predecir el precio de casas de un DataSet. Se exploran diversas técnicas, como árboles de decisión simples, árboles con validación cruzada y Random Forest, con el objetivo de identificar el enfoque más efectivo en términos de precisión y prevención del sobreajuste."
      ]
    },
    {
      "cell_type": "markdown",
      "metadata": {
        "id": "QTXdNg97gb0K"
      },
      "source": [
        "## Import Libraries ⬇️"
      ]
    },
    {
      "cell_type": "code",
      "execution_count": 2,
      "metadata": {
        "id": "yVDfeaM3gb0O"
      },
      "outputs": [
        {
          "name": "stderr",
          "output_type": "stream",
          "text": [
            "C:\\Users\\agria\\AppData\\Local\\Temp\\ipykernel_26324\\1120592823.py:2: DeprecationWarning: \n",
            "Pyarrow will become a required dependency of pandas in the next major release of pandas (pandas 3.0),\n",
            "(to allow more performant data types, such as the Arrow string type, and better interoperability with other libraries)\n",
            "but was not found to be installed on your system.\n",
            "If this would cause problems for you,\n",
            "please provide us feedback at https://github.com/pandas-dev/pandas/issues/54466\n",
            "        \n",
            "  import pandas as pd\n"
          ]
        }
      ],
      "source": [
        "import numpy as np\n",
        "import pandas as pd\n",
        "import matplotlib.pyplot as plt\n",
        "from sklearn.tree import DecisionTreeClassifier\n",
        "from sklearn import tree\n",
        "from sklearn.tree import DecisionTreeRegressor\n",
        "from sklearn.metrics import (mean_squared_error, mean_absolute_error, r2_score, confusion_matrix, accuracy_score,\n",
        "precision_score, recall_score, ConfusionMatrixDisplay)\n",
        "import seaborn as sns\n",
        "from sklearn.model_selection import cross_val_score\n",
        "from sklearn.ensemble import RandomForestClassifier\n",
        "from sklearn.model_selection import GridSearchCV\n",
        "from sklearn.model_selection import train_test_split\n",
        "from sklearn.preprocessing import OrdinalEncoder\n",
        "\n",
        "random_state = 42"
      ]
    },
    {
      "cell_type": "markdown",
      "metadata": {
        "id": "wLk1GAYogb0S"
      },
      "source": [
        "## Data Upload 📄"
      ]
    },
    {
      "cell_type": "code",
      "execution_count": 4,
      "metadata": {
        "colab": {
          "base_uri": "https://localhost:8080/",
          "height": 444
        },
        "id": "R3u-E3ybgb0T",
        "outputId": "5aa9e16e-24ef-405e-be04-5818cf1530fc"
      },
      "outputs": [
        {
          "data": {
            "text/html": [
              "<div>\n",
              "<style scoped>\n",
              "    .dataframe tbody tr th:only-of-type {\n",
              "        vertical-align: middle;\n",
              "    }\n",
              "\n",
              "    .dataframe tbody tr th {\n",
              "        vertical-align: top;\n",
              "    }\n",
              "\n",
              "    .dataframe thead th {\n",
              "        text-align: right;\n",
              "    }\n",
              "</style>\n",
              "<table border=\"1\" class=\"dataframe\">\n",
              "  <thead>\n",
              "    <tr style=\"text-align: right;\">\n",
              "      <th></th>\n",
              "      <th>Id</th>\n",
              "      <th>MSSubClass</th>\n",
              "      <th>MSZoning</th>\n",
              "      <th>LotFrontage</th>\n",
              "      <th>LotArea</th>\n",
              "      <th>Street</th>\n",
              "      <th>Alley</th>\n",
              "      <th>LotShape</th>\n",
              "      <th>LandContour</th>\n",
              "      <th>Utilities</th>\n",
              "      <th>...</th>\n",
              "      <th>PoolArea</th>\n",
              "      <th>PoolQC</th>\n",
              "      <th>Fence</th>\n",
              "      <th>MiscFeature</th>\n",
              "      <th>MiscVal</th>\n",
              "      <th>MoSold</th>\n",
              "      <th>YrSold</th>\n",
              "      <th>SaleType</th>\n",
              "      <th>SaleCondition</th>\n",
              "      <th>SalePrice</th>\n",
              "    </tr>\n",
              "  </thead>\n",
              "  <tbody>\n",
              "    <tr>\n",
              "      <th>0</th>\n",
              "      <td>1</td>\n",
              "      <td>60</td>\n",
              "      <td>RL</td>\n",
              "      <td>65.0</td>\n",
              "      <td>8450</td>\n",
              "      <td>Pave</td>\n",
              "      <td>NaN</td>\n",
              "      <td>Reg</td>\n",
              "      <td>Lvl</td>\n",
              "      <td>AllPub</td>\n",
              "      <td>...</td>\n",
              "      <td>0</td>\n",
              "      <td>NaN</td>\n",
              "      <td>NaN</td>\n",
              "      <td>NaN</td>\n",
              "      <td>0</td>\n",
              "      <td>2</td>\n",
              "      <td>2008</td>\n",
              "      <td>WD</td>\n",
              "      <td>Normal</td>\n",
              "      <td>208500</td>\n",
              "    </tr>\n",
              "    <tr>\n",
              "      <th>1</th>\n",
              "      <td>2</td>\n",
              "      <td>20</td>\n",
              "      <td>RL</td>\n",
              "      <td>80.0</td>\n",
              "      <td>9600</td>\n",
              "      <td>Pave</td>\n",
              "      <td>NaN</td>\n",
              "      <td>Reg</td>\n",
              "      <td>Lvl</td>\n",
              "      <td>AllPub</td>\n",
              "      <td>...</td>\n",
              "      <td>0</td>\n",
              "      <td>NaN</td>\n",
              "      <td>NaN</td>\n",
              "      <td>NaN</td>\n",
              "      <td>0</td>\n",
              "      <td>5</td>\n",
              "      <td>2007</td>\n",
              "      <td>WD</td>\n",
              "      <td>Normal</td>\n",
              "      <td>181500</td>\n",
              "    </tr>\n",
              "    <tr>\n",
              "      <th>2</th>\n",
              "      <td>3</td>\n",
              "      <td>60</td>\n",
              "      <td>RL</td>\n",
              "      <td>68.0</td>\n",
              "      <td>11250</td>\n",
              "      <td>Pave</td>\n",
              "      <td>NaN</td>\n",
              "      <td>IR1</td>\n",
              "      <td>Lvl</td>\n",
              "      <td>AllPub</td>\n",
              "      <td>...</td>\n",
              "      <td>0</td>\n",
              "      <td>NaN</td>\n",
              "      <td>NaN</td>\n",
              "      <td>NaN</td>\n",
              "      <td>0</td>\n",
              "      <td>9</td>\n",
              "      <td>2008</td>\n",
              "      <td>WD</td>\n",
              "      <td>Normal</td>\n",
              "      <td>223500</td>\n",
              "    </tr>\n",
              "    <tr>\n",
              "      <th>3</th>\n",
              "      <td>4</td>\n",
              "      <td>70</td>\n",
              "      <td>RL</td>\n",
              "      <td>60.0</td>\n",
              "      <td>9550</td>\n",
              "      <td>Pave</td>\n",
              "      <td>NaN</td>\n",
              "      <td>IR1</td>\n",
              "      <td>Lvl</td>\n",
              "      <td>AllPub</td>\n",
              "      <td>...</td>\n",
              "      <td>0</td>\n",
              "      <td>NaN</td>\n",
              "      <td>NaN</td>\n",
              "      <td>NaN</td>\n",
              "      <td>0</td>\n",
              "      <td>2</td>\n",
              "      <td>2006</td>\n",
              "      <td>WD</td>\n",
              "      <td>Abnorml</td>\n",
              "      <td>140000</td>\n",
              "    </tr>\n",
              "    <tr>\n",
              "      <th>4</th>\n",
              "      <td>5</td>\n",
              "      <td>60</td>\n",
              "      <td>RL</td>\n",
              "      <td>84.0</td>\n",
              "      <td>14260</td>\n",
              "      <td>Pave</td>\n",
              "      <td>NaN</td>\n",
              "      <td>IR1</td>\n",
              "      <td>Lvl</td>\n",
              "      <td>AllPub</td>\n",
              "      <td>...</td>\n",
              "      <td>0</td>\n",
              "      <td>NaN</td>\n",
              "      <td>NaN</td>\n",
              "      <td>NaN</td>\n",
              "      <td>0</td>\n",
              "      <td>12</td>\n",
              "      <td>2008</td>\n",
              "      <td>WD</td>\n",
              "      <td>Normal</td>\n",
              "      <td>250000</td>\n",
              "    </tr>\n",
              "    <tr>\n",
              "      <th>...</th>\n",
              "      <td>...</td>\n",
              "      <td>...</td>\n",
              "      <td>...</td>\n",
              "      <td>...</td>\n",
              "      <td>...</td>\n",
              "      <td>...</td>\n",
              "      <td>...</td>\n",
              "      <td>...</td>\n",
              "      <td>...</td>\n",
              "      <td>...</td>\n",
              "      <td>...</td>\n",
              "      <td>...</td>\n",
              "      <td>...</td>\n",
              "      <td>...</td>\n",
              "      <td>...</td>\n",
              "      <td>...</td>\n",
              "      <td>...</td>\n",
              "      <td>...</td>\n",
              "      <td>...</td>\n",
              "      <td>...</td>\n",
              "      <td>...</td>\n",
              "    </tr>\n",
              "    <tr>\n",
              "      <th>1455</th>\n",
              "      <td>1456</td>\n",
              "      <td>60</td>\n",
              "      <td>RL</td>\n",
              "      <td>62.0</td>\n",
              "      <td>7917</td>\n",
              "      <td>Pave</td>\n",
              "      <td>NaN</td>\n",
              "      <td>Reg</td>\n",
              "      <td>Lvl</td>\n",
              "      <td>AllPub</td>\n",
              "      <td>...</td>\n",
              "      <td>0</td>\n",
              "      <td>NaN</td>\n",
              "      <td>NaN</td>\n",
              "      <td>NaN</td>\n",
              "      <td>0</td>\n",
              "      <td>8</td>\n",
              "      <td>2007</td>\n",
              "      <td>WD</td>\n",
              "      <td>Normal</td>\n",
              "      <td>175000</td>\n",
              "    </tr>\n",
              "    <tr>\n",
              "      <th>1456</th>\n",
              "      <td>1457</td>\n",
              "      <td>20</td>\n",
              "      <td>RL</td>\n",
              "      <td>85.0</td>\n",
              "      <td>13175</td>\n",
              "      <td>Pave</td>\n",
              "      <td>NaN</td>\n",
              "      <td>Reg</td>\n",
              "      <td>Lvl</td>\n",
              "      <td>AllPub</td>\n",
              "      <td>...</td>\n",
              "      <td>0</td>\n",
              "      <td>NaN</td>\n",
              "      <td>MnPrv</td>\n",
              "      <td>NaN</td>\n",
              "      <td>0</td>\n",
              "      <td>2</td>\n",
              "      <td>2010</td>\n",
              "      <td>WD</td>\n",
              "      <td>Normal</td>\n",
              "      <td>210000</td>\n",
              "    </tr>\n",
              "    <tr>\n",
              "      <th>1457</th>\n",
              "      <td>1458</td>\n",
              "      <td>70</td>\n",
              "      <td>RL</td>\n",
              "      <td>66.0</td>\n",
              "      <td>9042</td>\n",
              "      <td>Pave</td>\n",
              "      <td>NaN</td>\n",
              "      <td>Reg</td>\n",
              "      <td>Lvl</td>\n",
              "      <td>AllPub</td>\n",
              "      <td>...</td>\n",
              "      <td>0</td>\n",
              "      <td>NaN</td>\n",
              "      <td>GdPrv</td>\n",
              "      <td>Shed</td>\n",
              "      <td>2500</td>\n",
              "      <td>5</td>\n",
              "      <td>2010</td>\n",
              "      <td>WD</td>\n",
              "      <td>Normal</td>\n",
              "      <td>266500</td>\n",
              "    </tr>\n",
              "    <tr>\n",
              "      <th>1458</th>\n",
              "      <td>1459</td>\n",
              "      <td>20</td>\n",
              "      <td>RL</td>\n",
              "      <td>68.0</td>\n",
              "      <td>9717</td>\n",
              "      <td>Pave</td>\n",
              "      <td>NaN</td>\n",
              "      <td>Reg</td>\n",
              "      <td>Lvl</td>\n",
              "      <td>AllPub</td>\n",
              "      <td>...</td>\n",
              "      <td>0</td>\n",
              "      <td>NaN</td>\n",
              "      <td>NaN</td>\n",
              "      <td>NaN</td>\n",
              "      <td>0</td>\n",
              "      <td>4</td>\n",
              "      <td>2010</td>\n",
              "      <td>WD</td>\n",
              "      <td>Normal</td>\n",
              "      <td>142125</td>\n",
              "    </tr>\n",
              "    <tr>\n",
              "      <th>1459</th>\n",
              "      <td>1460</td>\n",
              "      <td>20</td>\n",
              "      <td>RL</td>\n",
              "      <td>75.0</td>\n",
              "      <td>9937</td>\n",
              "      <td>Pave</td>\n",
              "      <td>NaN</td>\n",
              "      <td>Reg</td>\n",
              "      <td>Lvl</td>\n",
              "      <td>AllPub</td>\n",
              "      <td>...</td>\n",
              "      <td>0</td>\n",
              "      <td>NaN</td>\n",
              "      <td>NaN</td>\n",
              "      <td>NaN</td>\n",
              "      <td>0</td>\n",
              "      <td>6</td>\n",
              "      <td>2008</td>\n",
              "      <td>WD</td>\n",
              "      <td>Normal</td>\n",
              "      <td>147500</td>\n",
              "    </tr>\n",
              "  </tbody>\n",
              "</table>\n",
              "<p>1460 rows × 81 columns</p>\n",
              "</div>"
            ],
            "text/plain": [
              "        Id  MSSubClass MSZoning  LotFrontage  LotArea Street Alley LotShape  \\\n",
              "0        1          60       RL         65.0     8450   Pave   NaN      Reg   \n",
              "1        2          20       RL         80.0     9600   Pave   NaN      Reg   \n",
              "2        3          60       RL         68.0    11250   Pave   NaN      IR1   \n",
              "3        4          70       RL         60.0     9550   Pave   NaN      IR1   \n",
              "4        5          60       RL         84.0    14260   Pave   NaN      IR1   \n",
              "...    ...         ...      ...          ...      ...    ...   ...      ...   \n",
              "1455  1456          60       RL         62.0     7917   Pave   NaN      Reg   \n",
              "1456  1457          20       RL         85.0    13175   Pave   NaN      Reg   \n",
              "1457  1458          70       RL         66.0     9042   Pave   NaN      Reg   \n",
              "1458  1459          20       RL         68.0     9717   Pave   NaN      Reg   \n",
              "1459  1460          20       RL         75.0     9937   Pave   NaN      Reg   \n",
              "\n",
              "     LandContour Utilities  ... PoolArea PoolQC  Fence MiscFeature MiscVal  \\\n",
              "0            Lvl    AllPub  ...        0    NaN    NaN         NaN       0   \n",
              "1            Lvl    AllPub  ...        0    NaN    NaN         NaN       0   \n",
              "2            Lvl    AllPub  ...        0    NaN    NaN         NaN       0   \n",
              "3            Lvl    AllPub  ...        0    NaN    NaN         NaN       0   \n",
              "4            Lvl    AllPub  ...        0    NaN    NaN         NaN       0   \n",
              "...          ...       ...  ...      ...    ...    ...         ...     ...   \n",
              "1455         Lvl    AllPub  ...        0    NaN    NaN         NaN       0   \n",
              "1456         Lvl    AllPub  ...        0    NaN  MnPrv         NaN       0   \n",
              "1457         Lvl    AllPub  ...        0    NaN  GdPrv        Shed    2500   \n",
              "1458         Lvl    AllPub  ...        0    NaN    NaN         NaN       0   \n",
              "1459         Lvl    AllPub  ...        0    NaN    NaN         NaN       0   \n",
              "\n",
              "     MoSold YrSold  SaleType  SaleCondition  SalePrice  \n",
              "0         2   2008        WD         Normal     208500  \n",
              "1         5   2007        WD         Normal     181500  \n",
              "2         9   2008        WD         Normal     223500  \n",
              "3         2   2006        WD        Abnorml     140000  \n",
              "4        12   2008        WD         Normal     250000  \n",
              "...     ...    ...       ...            ...        ...  \n",
              "1455      8   2007        WD         Normal     175000  \n",
              "1456      2   2010        WD         Normal     210000  \n",
              "1457      5   2010        WD         Normal     266500  \n",
              "1458      4   2010        WD         Normal     142125  \n",
              "1459      6   2008        WD         Normal     147500  \n",
              "\n",
              "[1460 rows x 81 columns]"
            ]
          },
          "execution_count": 4,
          "metadata": {},
          "output_type": "execute_result"
        }
      ],
      "source": [
        "df = pd.read_csv('train.csv')\n",
        "df"
      ]
    },
    {
      "cell_type": "markdown",
      "metadata": {
        "id": "hkGU39THiidX"
      },
      "source": [
        "## Exploratory Analysis 🔎"
      ]
    },
    {
      "cell_type": "markdown",
      "metadata": {
        "id": "McuHnYtmjGpL"
      },
      "source": [
        "### Variable Categorization"
      ]
    },
    {
      "cell_type": "markdown",
      "metadata": {
        "id": "04eppT3ujavI"
      },
      "source": [
        "#### **Numerical**\n",
        "\n",
        "`Continuous`: LotFrontage, LotArea, MasVnrArea, BsmtFinSF1, BsmtFinSF2, BsmtUnfSF, TotalBsmtSF, 1stFlrSF, 2ndFlrSF, LowQualFinSF, GrLivArea, GarageArea, WoodDeckSF, OpenPorchSF, EnclosedPorch, 3SsnPorch, ScreenPorch, PoolArea, MiscVal, SalePrice\n",
        "\n",
        "`Discrete`: Id, MSSubClass, Overa"
      ]
    },
    {
      "cell_type": "markdown",
      "metadata": {
        "id": "T1zvlilojeRu"
      },
      "source": [
        "#### **Categorical**\n",
        "`Nominal`: MSZoning, Street, Alley, LotShape, LandContour, Utilities, LotConfig, LandSlope, Neighborhood, Condition1, Condition2, BldgType, HouseStyle, RoofStyle, RoofMatl, Exterior1st, Exterior2nd, MasVnrType, Foundation, Heating, CentralAir, Electrical, GarageType, MiscFeature, SaleType, SaleCondition\n",
        "\n",
        "`Ordinal`: ExterQual, ExterCond, BsmtQual, BsmtCond, BsmtExposure, BsmtFinType1, BsmtFinType2, HeatingQC, KitchenQual, Functional, FireplaceQu, GarageFinish, GarageQual, GarageCond, PavedDrive, PoolQC, Fence"
      ]
    },
    {
      "cell_type": "markdown",
      "metadata": {
        "id": "YM_nK9DEjpmk"
      },
      "source": [
        "### Descriptive Statistics"
      ]
    },
    {
      "cell_type": "code",
      "execution_count": 4,
      "metadata": {
        "colab": {
          "base_uri": "https://localhost:8080/",
          "height": 350
        },
        "id": "H9r6kYm5jx34",
        "outputId": "bdc4fb54-8189-4fab-8015-ee487e726d3e"
      },
      "outputs": [
        {
          "data": {
            "application/vnd.google.colaboratory.intrinsic+json": {
              "type": "dataframe"
            },
            "text/html": [
              "\n",
              "  <div id=\"df-a2609d0c-27c5-4090-b468-499620103524\" class=\"colab-df-container\">\n",
              "    <div>\n",
              "<style scoped>\n",
              "    .dataframe tbody tr th:only-of-type {\n",
              "        vertical-align: middle;\n",
              "    }\n",
              "\n",
              "    .dataframe tbody tr th {\n",
              "        vertical-align: top;\n",
              "    }\n",
              "\n",
              "    .dataframe thead th {\n",
              "        text-align: right;\n",
              "    }\n",
              "</style>\n",
              "<table border=\"1\" class=\"dataframe\">\n",
              "  <thead>\n",
              "    <tr style=\"text-align: right;\">\n",
              "      <th></th>\n",
              "      <th>MSSubClass</th>\n",
              "      <th>LotFrontage</th>\n",
              "      <th>LotArea</th>\n",
              "      <th>OverallQual</th>\n",
              "      <th>OverallCond</th>\n",
              "      <th>YearBuilt</th>\n",
              "      <th>YearRemodAdd</th>\n",
              "      <th>MasVnrArea</th>\n",
              "      <th>BsmtFinSF1</th>\n",
              "      <th>BsmtFinSF2</th>\n",
              "      <th>...</th>\n",
              "      <th>WoodDeckSF</th>\n",
              "      <th>OpenPorchSF</th>\n",
              "      <th>EnclosedPorch</th>\n",
              "      <th>3SsnPorch</th>\n",
              "      <th>ScreenPorch</th>\n",
              "      <th>PoolArea</th>\n",
              "      <th>MiscVal</th>\n",
              "      <th>MoSold</th>\n",
              "      <th>YrSold</th>\n",
              "      <th>SalePrice</th>\n",
              "    </tr>\n",
              "  </thead>\n",
              "  <tbody>\n",
              "    <tr>\n",
              "      <th>count</th>\n",
              "      <td>1460.000000</td>\n",
              "      <td>1201.000000</td>\n",
              "      <td>1460.000000</td>\n",
              "      <td>1460.000000</td>\n",
              "      <td>1460.000000</td>\n",
              "      <td>1460.000000</td>\n",
              "      <td>1460.000000</td>\n",
              "      <td>1452.000000</td>\n",
              "      <td>1460.000000</td>\n",
              "      <td>1460.000000</td>\n",
              "      <td>...</td>\n",
              "      <td>1460.000000</td>\n",
              "      <td>1460.000000</td>\n",
              "      <td>1460.000000</td>\n",
              "      <td>1460.000000</td>\n",
              "      <td>1460.000000</td>\n",
              "      <td>1460.000000</td>\n",
              "      <td>1460.000000</td>\n",
              "      <td>1460.000000</td>\n",
              "      <td>1460.000000</td>\n",
              "      <td>1460.000000</td>\n",
              "    </tr>\n",
              "    <tr>\n",
              "      <th>mean</th>\n",
              "      <td>56.897260</td>\n",
              "      <td>70.049958</td>\n",
              "      <td>10516.828082</td>\n",
              "      <td>6.099315</td>\n",
              "      <td>5.575342</td>\n",
              "      <td>1971.267808</td>\n",
              "      <td>1984.865753</td>\n",
              "      <td>103.685262</td>\n",
              "      <td>443.639726</td>\n",
              "      <td>46.549315</td>\n",
              "      <td>...</td>\n",
              "      <td>94.244521</td>\n",
              "      <td>46.660274</td>\n",
              "      <td>21.954110</td>\n",
              "      <td>3.409589</td>\n",
              "      <td>15.060959</td>\n",
              "      <td>2.758904</td>\n",
              "      <td>43.489041</td>\n",
              "      <td>6.321918</td>\n",
              "      <td>2007.815753</td>\n",
              "      <td>180921.195890</td>\n",
              "    </tr>\n",
              "    <tr>\n",
              "      <th>std</th>\n",
              "      <td>42.300571</td>\n",
              "      <td>24.284752</td>\n",
              "      <td>9981.264932</td>\n",
              "      <td>1.382997</td>\n",
              "      <td>1.112799</td>\n",
              "      <td>30.202904</td>\n",
              "      <td>20.645407</td>\n",
              "      <td>181.066207</td>\n",
              "      <td>456.098091</td>\n",
              "      <td>161.319273</td>\n",
              "      <td>...</td>\n",
              "      <td>125.338794</td>\n",
              "      <td>66.256028</td>\n",
              "      <td>61.119149</td>\n",
              "      <td>29.317331</td>\n",
              "      <td>55.757415</td>\n",
              "      <td>40.177307</td>\n",
              "      <td>496.123024</td>\n",
              "      <td>2.703626</td>\n",
              "      <td>1.328095</td>\n",
              "      <td>79442.502883</td>\n",
              "    </tr>\n",
              "    <tr>\n",
              "      <th>min</th>\n",
              "      <td>20.000000</td>\n",
              "      <td>21.000000</td>\n",
              "      <td>1300.000000</td>\n",
              "      <td>1.000000</td>\n",
              "      <td>1.000000</td>\n",
              "      <td>1872.000000</td>\n",
              "      <td>1950.000000</td>\n",
              "      <td>0.000000</td>\n",
              "      <td>0.000000</td>\n",
              "      <td>0.000000</td>\n",
              "      <td>...</td>\n",
              "      <td>0.000000</td>\n",
              "      <td>0.000000</td>\n",
              "      <td>0.000000</td>\n",
              "      <td>0.000000</td>\n",
              "      <td>0.000000</td>\n",
              "      <td>0.000000</td>\n",
              "      <td>0.000000</td>\n",
              "      <td>1.000000</td>\n",
              "      <td>2006.000000</td>\n",
              "      <td>34900.000000</td>\n",
              "    </tr>\n",
              "    <tr>\n",
              "      <th>25%</th>\n",
              "      <td>20.000000</td>\n",
              "      <td>59.000000</td>\n",
              "      <td>7553.500000</td>\n",
              "      <td>5.000000</td>\n",
              "      <td>5.000000</td>\n",
              "      <td>1954.000000</td>\n",
              "      <td>1967.000000</td>\n",
              "      <td>0.000000</td>\n",
              "      <td>0.000000</td>\n",
              "      <td>0.000000</td>\n",
              "      <td>...</td>\n",
              "      <td>0.000000</td>\n",
              "      <td>0.000000</td>\n",
              "      <td>0.000000</td>\n",
              "      <td>0.000000</td>\n",
              "      <td>0.000000</td>\n",
              "      <td>0.000000</td>\n",
              "      <td>0.000000</td>\n",
              "      <td>5.000000</td>\n",
              "      <td>2007.000000</td>\n",
              "      <td>129975.000000</td>\n",
              "    </tr>\n",
              "    <tr>\n",
              "      <th>50%</th>\n",
              "      <td>50.000000</td>\n",
              "      <td>69.000000</td>\n",
              "      <td>9478.500000</td>\n",
              "      <td>6.000000</td>\n",
              "      <td>5.000000</td>\n",
              "      <td>1973.000000</td>\n",
              "      <td>1994.000000</td>\n",
              "      <td>0.000000</td>\n",
              "      <td>383.500000</td>\n",
              "      <td>0.000000</td>\n",
              "      <td>...</td>\n",
              "      <td>0.000000</td>\n",
              "      <td>25.000000</td>\n",
              "      <td>0.000000</td>\n",
              "      <td>0.000000</td>\n",
              "      <td>0.000000</td>\n",
              "      <td>0.000000</td>\n",
              "      <td>0.000000</td>\n",
              "      <td>6.000000</td>\n",
              "      <td>2008.000000</td>\n",
              "      <td>163000.000000</td>\n",
              "    </tr>\n",
              "    <tr>\n",
              "      <th>75%</th>\n",
              "      <td>70.000000</td>\n",
              "      <td>80.000000</td>\n",
              "      <td>11601.500000</td>\n",
              "      <td>7.000000</td>\n",
              "      <td>6.000000</td>\n",
              "      <td>2000.000000</td>\n",
              "      <td>2004.000000</td>\n",
              "      <td>166.000000</td>\n",
              "      <td>712.250000</td>\n",
              "      <td>0.000000</td>\n",
              "      <td>...</td>\n",
              "      <td>168.000000</td>\n",
              "      <td>68.000000</td>\n",
              "      <td>0.000000</td>\n",
              "      <td>0.000000</td>\n",
              "      <td>0.000000</td>\n",
              "      <td>0.000000</td>\n",
              "      <td>0.000000</td>\n",
              "      <td>8.000000</td>\n",
              "      <td>2009.000000</td>\n",
              "      <td>214000.000000</td>\n",
              "    </tr>\n",
              "    <tr>\n",
              "      <th>max</th>\n",
              "      <td>190.000000</td>\n",
              "      <td>313.000000</td>\n",
              "      <td>215245.000000</td>\n",
              "      <td>10.000000</td>\n",
              "      <td>9.000000</td>\n",
              "      <td>2010.000000</td>\n",
              "      <td>2010.000000</td>\n",
              "      <td>1600.000000</td>\n",
              "      <td>5644.000000</td>\n",
              "      <td>1474.000000</td>\n",
              "      <td>...</td>\n",
              "      <td>857.000000</td>\n",
              "      <td>547.000000</td>\n",
              "      <td>552.000000</td>\n",
              "      <td>508.000000</td>\n",
              "      <td>480.000000</td>\n",
              "      <td>738.000000</td>\n",
              "      <td>15500.000000</td>\n",
              "      <td>12.000000</td>\n",
              "      <td>2010.000000</td>\n",
              "      <td>755000.000000</td>\n",
              "    </tr>\n",
              "  </tbody>\n",
              "</table>\n",
              "<p>8 rows × 37 columns</p>\n",
              "</div>\n",
              "    <div class=\"colab-df-buttons\">\n",
              "\n",
              "  <div class=\"colab-df-container\">\n",
              "    <button class=\"colab-df-convert\" onclick=\"convertToInteractive('df-a2609d0c-27c5-4090-b468-499620103524')\"\n",
              "            title=\"Convert this dataframe to an interactive table.\"\n",
              "            style=\"display:none;\">\n",
              "\n",
              "  <svg xmlns=\"http://www.w3.org/2000/svg\" height=\"24px\" viewBox=\"0 -960 960 960\">\n",
              "    <path d=\"M120-120v-720h720v720H120Zm60-500h600v-160H180v160Zm220 220h160v-160H400v160Zm0 220h160v-160H400v160ZM180-400h160v-160H180v160Zm440 0h160v-160H620v160ZM180-180h160v-160H180v160Zm440 0h160v-160H620v160Z\"/>\n",
              "  </svg>\n",
              "    </button>\n",
              "\n",
              "  <style>\n",
              "    .colab-df-container {\n",
              "      display:flex;\n",
              "      gap: 12px;\n",
              "    }\n",
              "\n",
              "    .colab-df-convert {\n",
              "      background-color: #E8F0FE;\n",
              "      border: none;\n",
              "      border-radius: 50%;\n",
              "      cursor: pointer;\n",
              "      display: none;\n",
              "      fill: #1967D2;\n",
              "      height: 32px;\n",
              "      padding: 0 0 0 0;\n",
              "      width: 32px;\n",
              "    }\n",
              "\n",
              "    .colab-df-convert:hover {\n",
              "      background-color: #E2EBFA;\n",
              "      box-shadow: 0px 1px 2px rgba(60, 64, 67, 0.3), 0px 1px 3px 1px rgba(60, 64, 67, 0.15);\n",
              "      fill: #174EA6;\n",
              "    }\n",
              "\n",
              "    .colab-df-buttons div {\n",
              "      margin-bottom: 4px;\n",
              "    }\n",
              "\n",
              "    [theme=dark] .colab-df-convert {\n",
              "      background-color: #3B4455;\n",
              "      fill: #D2E3FC;\n",
              "    }\n",
              "\n",
              "    [theme=dark] .colab-df-convert:hover {\n",
              "      background-color: #434B5C;\n",
              "      box-shadow: 0px 1px 3px 1px rgba(0, 0, 0, 0.15);\n",
              "      filter: drop-shadow(0px 1px 2px rgba(0, 0, 0, 0.3));\n",
              "      fill: #FFFFFF;\n",
              "    }\n",
              "  </style>\n",
              "\n",
              "    <script>\n",
              "      const buttonEl =\n",
              "        document.querySelector('#df-a2609d0c-27c5-4090-b468-499620103524 button.colab-df-convert');\n",
              "      buttonEl.style.display =\n",
              "        google.colab.kernel.accessAllowed ? 'block' : 'none';\n",
              "\n",
              "      async function convertToInteractive(key) {\n",
              "        const element = document.querySelector('#df-a2609d0c-27c5-4090-b468-499620103524');\n",
              "        const dataTable =\n",
              "          await google.colab.kernel.invokeFunction('convertToInteractive',\n",
              "                                                    [key], {});\n",
              "        if (!dataTable) return;\n",
              "\n",
              "        const docLinkHtml = 'Like what you see? Visit the ' +\n",
              "          '<a target=\"_blank\" href=https://colab.research.google.com/notebooks/data_table.ipynb>data table notebook</a>'\n",
              "          + ' to learn more about interactive tables.';\n",
              "        element.innerHTML = '';\n",
              "        dataTable['output_type'] = 'display_data';\n",
              "        await google.colab.output.renderOutput(dataTable, element);\n",
              "        const docLink = document.createElement('div');\n",
              "        docLink.innerHTML = docLinkHtml;\n",
              "        element.appendChild(docLink);\n",
              "      }\n",
              "    </script>\n",
              "  </div>\n",
              "\n",
              "\n",
              "<div id=\"df-52fd3b6c-5d44-45d8-b4f3-20b6a2967a1e\">\n",
              "  <button class=\"colab-df-quickchart\" onclick=\"quickchart('df-52fd3b6c-5d44-45d8-b4f3-20b6a2967a1e')\"\n",
              "            title=\"Suggest charts\"\n",
              "            style=\"display:none;\">\n",
              "\n",
              "<svg xmlns=\"http://www.w3.org/2000/svg\" height=\"24px\"viewBox=\"0 0 24 24\"\n",
              "     width=\"24px\">\n",
              "    <g>\n",
              "        <path d=\"M19 3H5c-1.1 0-2 .9-2 2v14c0 1.1.9 2 2 2h14c1.1 0 2-.9 2-2V5c0-1.1-.9-2-2-2zM9 17H7v-7h2v7zm4 0h-2V7h2v10zm4 0h-2v-4h2v4z\"/>\n",
              "    </g>\n",
              "</svg>\n",
              "  </button>\n",
              "\n",
              "<style>\n",
              "  .colab-df-quickchart {\n",
              "      --bg-color: #E8F0FE;\n",
              "      --fill-color: #1967D2;\n",
              "      --hover-bg-color: #E2EBFA;\n",
              "      --hover-fill-color: #174EA6;\n",
              "      --disabled-fill-color: #AAA;\n",
              "      --disabled-bg-color: #DDD;\n",
              "  }\n",
              "\n",
              "  [theme=dark] .colab-df-quickchart {\n",
              "      --bg-color: #3B4455;\n",
              "      --fill-color: #D2E3FC;\n",
              "      --hover-bg-color: #434B5C;\n",
              "      --hover-fill-color: #FFFFFF;\n",
              "      --disabled-bg-color: #3B4455;\n",
              "      --disabled-fill-color: #666;\n",
              "  }\n",
              "\n",
              "  .colab-df-quickchart {\n",
              "    background-color: var(--bg-color);\n",
              "    border: none;\n",
              "    border-radius: 50%;\n",
              "    cursor: pointer;\n",
              "    display: none;\n",
              "    fill: var(--fill-color);\n",
              "    height: 32px;\n",
              "    padding: 0;\n",
              "    width: 32px;\n",
              "  }\n",
              "\n",
              "  .colab-df-quickchart:hover {\n",
              "    background-color: var(--hover-bg-color);\n",
              "    box-shadow: 0 1px 2px rgba(60, 64, 67, 0.3), 0 1px 3px 1px rgba(60, 64, 67, 0.15);\n",
              "    fill: var(--button-hover-fill-color);\n",
              "  }\n",
              "\n",
              "  .colab-df-quickchart-complete:disabled,\n",
              "  .colab-df-quickchart-complete:disabled:hover {\n",
              "    background-color: var(--disabled-bg-color);\n",
              "    fill: var(--disabled-fill-color);\n",
              "    box-shadow: none;\n",
              "  }\n",
              "\n",
              "  .colab-df-spinner {\n",
              "    border: 2px solid var(--fill-color);\n",
              "    border-color: transparent;\n",
              "    border-bottom-color: var(--fill-color);\n",
              "    animation:\n",
              "      spin 1s steps(1) infinite;\n",
              "  }\n",
              "\n",
              "  @keyframes spin {\n",
              "    0% {\n",
              "      border-color: transparent;\n",
              "      border-bottom-color: var(--fill-color);\n",
              "      border-left-color: var(--fill-color);\n",
              "    }\n",
              "    20% {\n",
              "      border-color: transparent;\n",
              "      border-left-color: var(--fill-color);\n",
              "      border-top-color: var(--fill-color);\n",
              "    }\n",
              "    30% {\n",
              "      border-color: transparent;\n",
              "      border-left-color: var(--fill-color);\n",
              "      border-top-color: var(--fill-color);\n",
              "      border-right-color: var(--fill-color);\n",
              "    }\n",
              "    40% {\n",
              "      border-color: transparent;\n",
              "      border-right-color: var(--fill-color);\n",
              "      border-top-color: var(--fill-color);\n",
              "    }\n",
              "    60% {\n",
              "      border-color: transparent;\n",
              "      border-right-color: var(--fill-color);\n",
              "    }\n",
              "    80% {\n",
              "      border-color: transparent;\n",
              "      border-right-color: var(--fill-color);\n",
              "      border-bottom-color: var(--fill-color);\n",
              "    }\n",
              "    90% {\n",
              "      border-color: transparent;\n",
              "      border-bottom-color: var(--fill-color);\n",
              "    }\n",
              "  }\n",
              "</style>\n",
              "\n",
              "  <script>\n",
              "    async function quickchart(key) {\n",
              "      const quickchartButtonEl =\n",
              "        document.querySelector('#' + key + ' button');\n",
              "      quickchartButtonEl.disabled = true;  // To prevent multiple clicks.\n",
              "      quickchartButtonEl.classList.add('colab-df-spinner');\n",
              "      try {\n",
              "        const charts = await google.colab.kernel.invokeFunction(\n",
              "            'suggestCharts', [key], {});\n",
              "      } catch (error) {\n",
              "        console.error('Error during call to suggestCharts:', error);\n",
              "      }\n",
              "      quickchartButtonEl.classList.remove('colab-df-spinner');\n",
              "      quickchartButtonEl.classList.add('colab-df-quickchart-complete');\n",
              "    }\n",
              "    (() => {\n",
              "      let quickchartButtonEl =\n",
              "        document.querySelector('#df-52fd3b6c-5d44-45d8-b4f3-20b6a2967a1e button');\n",
              "      quickchartButtonEl.style.display =\n",
              "        google.colab.kernel.accessAllowed ? 'block' : 'none';\n",
              "    })();\n",
              "  </script>\n",
              "</div>\n",
              "    </div>\n",
              "  </div>\n"
            ],
            "text/plain": [
              "        MSSubClass  LotFrontage        LotArea  OverallQual  OverallCond  \\\n",
              "count  1460.000000  1201.000000    1460.000000  1460.000000  1460.000000   \n",
              "mean     56.897260    70.049958   10516.828082     6.099315     5.575342   \n",
              "std      42.300571    24.284752    9981.264932     1.382997     1.112799   \n",
              "min      20.000000    21.000000    1300.000000     1.000000     1.000000   \n",
              "25%      20.000000    59.000000    7553.500000     5.000000     5.000000   \n",
              "50%      50.000000    69.000000    9478.500000     6.000000     5.000000   \n",
              "75%      70.000000    80.000000   11601.500000     7.000000     6.000000   \n",
              "max     190.000000   313.000000  215245.000000    10.000000     9.000000   \n",
              "\n",
              "         YearBuilt  YearRemodAdd   MasVnrArea   BsmtFinSF1   BsmtFinSF2  ...  \\\n",
              "count  1460.000000   1460.000000  1452.000000  1460.000000  1460.000000  ...   \n",
              "mean   1971.267808   1984.865753   103.685262   443.639726    46.549315  ...   \n",
              "std      30.202904     20.645407   181.066207   456.098091   161.319273  ...   \n",
              "min    1872.000000   1950.000000     0.000000     0.000000     0.000000  ...   \n",
              "25%    1954.000000   1967.000000     0.000000     0.000000     0.000000  ...   \n",
              "50%    1973.000000   1994.000000     0.000000   383.500000     0.000000  ...   \n",
              "75%    2000.000000   2004.000000   166.000000   712.250000     0.000000  ...   \n",
              "max    2010.000000   2010.000000  1600.000000  5644.000000  1474.000000  ...   \n",
              "\n",
              "        WoodDeckSF  OpenPorchSF  EnclosedPorch    3SsnPorch  ScreenPorch  \\\n",
              "count  1460.000000  1460.000000    1460.000000  1460.000000  1460.000000   \n",
              "mean     94.244521    46.660274      21.954110     3.409589    15.060959   \n",
              "std     125.338794    66.256028      61.119149    29.317331    55.757415   \n",
              "min       0.000000     0.000000       0.000000     0.000000     0.000000   \n",
              "25%       0.000000     0.000000       0.000000     0.000000     0.000000   \n",
              "50%       0.000000    25.000000       0.000000     0.000000     0.000000   \n",
              "75%     168.000000    68.000000       0.000000     0.000000     0.000000   \n",
              "max     857.000000   547.000000     552.000000   508.000000   480.000000   \n",
              "\n",
              "          PoolArea       MiscVal       MoSold       YrSold      SalePrice  \n",
              "count  1460.000000   1460.000000  1460.000000  1460.000000    1460.000000  \n",
              "mean      2.758904     43.489041     6.321918  2007.815753  180921.195890  \n",
              "std      40.177307    496.123024     2.703626     1.328095   79442.502883  \n",
              "min       0.000000      0.000000     1.000000  2006.000000   34900.000000  \n",
              "25%       0.000000      0.000000     5.000000  2007.000000  129975.000000  \n",
              "50%       0.000000      0.000000     6.000000  2008.000000  163000.000000  \n",
              "75%       0.000000      0.000000     8.000000  2009.000000  214000.000000  \n",
              "max     738.000000  15500.000000    12.000000  2010.000000  755000.000000  \n",
              "\n",
              "[8 rows x 37 columns]"
            ]
          },
          "execution_count": 4,
          "metadata": {},
          "output_type": "execute_result"
        }
      ],
      "source": [
        "df_describe = df.loc[:, df.columns != 'Id']\n",
        "df_describe.describe(include=[np.number])"
      ]
    },
    {
      "cell_type": "markdown",
      "metadata": {
        "id": "5kAyUjQwkeOD"
      },
      "source": [
        "En el análisis descriptivo de la variable objetivo, SalePrice, observamos que su distribución cuartílica revela puntos clave en la distribución de precios de venta. El primer cuartil (Q1), que representa el 25% inferior de los datos, se sitúa en 129,975. Esto indica que el 25% de las viviendas se vendieron a un precio igual o inferior a esta cifra. El segundo cuartil (Q2), o mediana, se encuentra en 163,000, lo que significa que la mitad de las viviendas se vendieron a un precio igual o inferior a este valor. Por último, el tercer cuartil (Q3), que abarca el 75% de los datos, se encuentra en 214,000, indicando que el 75% de las viviendas se vendieron a precios iguales o inferiores a este monto. A continuación, se presentan dos gráficos para ilustrar mejor la distribución de estos cuartiles en la variable SalePrice."
      ]
    },
    {
      "cell_type": "code",
      "execution_count": 5,
      "metadata": {
        "colab": {
          "base_uri": "https://localhost:8080/",
          "height": 569
        },
        "id": "7yU57Xg9nOPI",
        "outputId": "7e9a7f15-1d8a-4517-c20f-3c86370555f1"
      },
      "outputs": [
        {
          "data": {
            "image/png": "[encoded data removed]",
            "text/plain": [
              "<Figure size 1000x600 with 1 Axes>"
            ]
          },
          "metadata": {},
          "output_type": "display_data"
        }
      ],
      "source": [
        "sns.set_style(\"whitegrid\")\n",
        "\n",
        "# Creating a new figure with specified size\n",
        "plt.figure(figsize=(10, 6))\n",
        "\n",
        "# Plotting the histogram of 'SalePrice' column from DataFrame 'df'\n",
        "sns.histplot(x='SalePrice', data=df, kde=True, color='skyblue', binwidth=10000, alpha=0.7, edgecolor='black')\n",
        "\n",
        "# Plot settings\n",
        "plt.title('Distribution of Sale Prices', fontsize=14, fontweight='500')\n",
        "plt.xlabel('Sale Price', fontsize=12)\n",
        "plt.ylabel('Frequency', fontsize=12)\n",
        "plt.xticks(fontsize=10)\n",
        "plt.yticks(fontsize=10)\n",
        "\n",
        "# Calculating the mean of 'SalePrice' column\n",
        "mean_value = df['SalePrice'].mean()\n",
        "\n",
        "# Adding a vertical line representing the mean value\n",
        "plt.axvline(mean_value, color='r', linestyle='--', linewidth=2)\n",
        "\n",
        "# Adding text annotation for the mean value\n",
        "plt.text(mean_value, plt.ylim()[1]*0.9, '   Mean: {:.2f}'.format(mean_value), color='r', fontsize=12)\n",
        "\n",
        "plt.show()"
      ]
    },
    {
      "cell_type": "code",
      "execution_count": 6,
      "metadata": {
        "colab": {
          "base_uri": "https://localhost:8080/",
          "height": 569
        },
        "id": "FaR3KWBpquIf",
        "outputId": "3c4ada24-3e71-44d5-ce0b-019814496c73"
      },
      "outputs": [
        {
          "data": {
            "image/png": "[encoded data removed]",
            "text/plain": [
              "<Figure size 1000x600 with 1 Axes>"
            ]
          },
          "metadata": {},
          "output_type": "display_data"
        }
      ],
      "source": [
        "sns.set_style(\"whitegrid\")\n",
        "\n",
        "# Creating a new figure with specified size\n",
        "plt.figure(figsize=(10, 6))\n",
        "\n",
        "# Plotting the boxplot of 'SalePrice' column from DataFrame 'df'\n",
        "sns.boxplot(x='SalePrice', data=df, color='skyblue')\n",
        "\n",
        "# Plot settings\n",
        "plt.title('Sale Price and Boxplot Analysis', fontsize=14, fontweight='500')\n",
        "plt.xlabel('Sale Price', fontsize=12)\n",
        "plt.xticks(fontsize=10)\n",
        "plt.yticks(fontsize=10)\n",
        "\n",
        "plt.show()"
      ]
    },
    {
      "cell_type": "markdown",
      "metadata": {
        "id": "8GPNILuloaSm"
      },
      "source": [
        "### NaN Value Analysis"
      ]
    },
    {
      "cell_type": "code",
      "execution_count": 7,
      "metadata": {
        "colab": {
          "base_uri": "https://localhost:8080/"
        },
        "id": "On7lHddPqHPn",
        "outputId": "e6462f76-3287-4107-8544-cad734bf0a2e"
      },
      "outputs": [
        {
          "name": "stdout",
          "output_type": "stream",
          "text": [
            "Columns with NaN values:\n",
            "----------------------------------------\n",
            "LotFrontage                    |   259 missing values\n",
            "Alley                          |  1369 missing values\n",
            "MasVnrType                     |     8 missing values\n",
            "MasVnrArea                     |     8 missing values\n",
            "BsmtQual                       |    37 missing values\n",
            "BsmtCond                       |    37 missing values\n",
            "BsmtExposure                   |    38 missing values\n",
            "BsmtFinType1                   |    37 missing values\n",
            "BsmtFinType2                   |    38 missing values\n",
            "Electrical                     |     1 missing values\n",
            "FireplaceQu                    |   690 missing values\n",
            "GarageType                     |    81 missing values\n",
            "GarageYrBlt                    |    81 missing values\n",
            "GarageFinish                   |    81 missing values\n",
            "GarageQual                     |    81 missing values\n",
            "GarageCond                     |    81 missing values\n",
            "PoolQC                         |  1453 missing values\n",
            "Fence                          |  1179 missing values\n",
            "MiscFeature                    |  1406 missing values\n",
            "----------------------------------------\n"
          ]
        }
      ],
      "source": [
        "# Checking for columns with missing values\n",
        "nullValues = df.isnull().sum()\n",
        "\n",
        "# Selecting columns with missing values\n",
        "nullValues = nullValues[nullValues > 0]\n",
        "\n",
        "# Printing information for any columns with missing values\n",
        "if not nullValues.empty:\n",
        "    print(\"Columns with NaN values:\")\n",
        "    print(\"-\" * 40)\n",
        "    for column, nans in nullValues.items():\n",
        "        print(f\"{column: <30} | {nans: >5} missing values\")\n",
        "    print(\"-\" * 40)\n",
        "else:\n",
        "    print(\"No columns with NaN values found.\")"
      ]
    },
    {
      "cell_type": "markdown",
      "metadata": {
        "id": "riXqwZ1Wgb0V"
      },
      "source": [
        "## Data Preprocessing 🗂️"
      ]
    },
    {
      "cell_type": "markdown",
      "metadata": {
        "id": "VymsSe-1gb0W"
      },
      "source": [
        "### Handling Missing Values"
      ]
    },
    {
      "cell_type": "code",
      "execution_count": 5,
      "metadata": {
        "id": "bzo1LnLcgb0Y"
      },
      "outputs": [],
      "source": [
        "# Remove rows with missing values in 'MasVnrType', 'MasVnrArea', and 'Electrical' columns.\n",
        "df.dropna(subset=['MasVnrType', 'MasVnrArea', 'Electrical'], inplace=True)"
      ]
    },
    {
      "cell_type": "code",
      "execution_count": null,
      "metadata": {
        "id": "MWU3K2v0gb0Y"
      },
      "outputs": [],
      "source": [
        "# Impute missing LotFrontage values based on the median LotFrontage within each neighborhood.\n",
        "df['LotFrontage'] = df.groupby('Neighborhood')['LotFrontage'].transform(lambda x: x.fillna(x.median()))"
      ]
    },
    {
      "cell_type": "code",
      "execution_count": 7,
      "metadata": {
        "id": "e3owMzmcgb0a"
      },
      "outputs": [],
      "source": [
        "# Fill missing values in FireplaceQu with 'None'.\n",
        "df['FireplaceQu'] = df['FireplaceQu'].fillna('None')"
      ]
    },
    {
      "cell_type": "code",
      "execution_count": 8,
      "metadata": {
        "id": "PeY0OYLpgb0c"
      },
      "outputs": [],
      "source": [
        "# Fill missing values in garage-related variables with 'None'.\n",
        "df['GarageType'] = df['GarageType'].fillna('None')\n",
        "df['GarageYrBlt'] = df['GarageYrBlt'].fillna(0)\n",
        "df['GarageFinish'] = df['GarageFinish'].fillna('None')\n",
        "df['GarageQual'] = df['GarageQual'].fillna('None')\n",
        "df['GarageCond'] = df['GarageCond'].fillna('None')"
      ]
    },
    {
      "cell_type": "code",
      "execution_count": 9,
      "metadata": {
        "id": "ExV2pGsXgb0e"
      },
      "outputs": [],
      "source": [
        "# Fill missing values in basement-related variables with 'None'.\n",
        "df['BsmtQual'] = df['BsmtQual'].fillna('None')\n",
        "df['BsmtCond'] = df['BsmtCond'].fillna('None')\n",
        "df['BsmtExposure'] = df['BsmtExposure'].fillna('None')\n",
        "df['BsmtFinType1'] = df['BsmtFinType1'].fillna('None')\n",
        "df['BsmtFinType2'] = df['BsmtFinType2'].fillna('None')"
      ]
    },
    {
      "cell_type": "code",
      "execution_count": 10,
      "metadata": {
        "id": "HcoxCQ4Pgb0g"
      },
      "outputs": [],
      "source": [
        "# Drop columns with a high count of missing values\n",
        "df.drop(['Alley', 'PoolQC', 'Fence', 'MiscFeature'], axis=1, inplace=True)"
      ]
    },
    {
      "cell_type": "markdown",
      "metadata": {
        "id": "qA0IU3u_gb0g"
      },
      "source": [
        "### Encoding"
      ]
    },
    {
      "cell_type": "code",
      "execution_count": 11,
      "metadata": {
        "id": "L_4rRZrCgb0h"
      },
      "outputs": [],
      "source": [
        "# Columns to encode, separated by feature category\n",
        "nominalFeatures = ['MSZoning', 'Street', 'LotShape', 'LandContour', 'Utilities', 'LotConfig',\n",
        "                    'LandSlope', 'Neighborhood', 'Condition1', 'Condition2', 'BldgType', 'HouseStyle',\n",
        "                    'RoofStyle', 'RoofMatl', 'Exterior1st', 'Exterior2nd', 'MasVnrType', 'Foundation',\n",
        "                    'Heating', 'CentralAir', 'Electrical', 'GarageType', 'SaleType',\n",
        "                    'SaleCondition','PavedDrive']\n",
        "\n",
        "ordinalFeatures = ['ExterQual', 'ExterCond', 'BsmtQual', 'BsmtCond', 'HeatingQC', 'KitchenQual','FireplaceQu',\n",
        "                    'GarageQual', 'GarageCond']\n",
        "\n",
        "otherOrdinalFeatures = ['BsmtExposure', 'BsmtFinType1', 'BsmtFinType2', 'Functional', 'GarageFinish']"
      ]
    },
    {
      "cell_type": "code",
      "execution_count": 12,
      "metadata": {
        "id": "beLe44MEgb0h"
      },
      "outputs": [],
      "source": [
        "# Convert nominal features into dummy variables\n",
        "df = pd.get_dummies(df, columns=nominalFeatures)"
      ]
    },
    {
      "cell_type": "code",
      "execution_count": 13,
      "metadata": {
        "id": "QpQY9hYngb0i"
      },
      "outputs": [],
      "source": [
        "# Define ordinal categories for each ordinal feature\n",
        "ordinalCategories = [['None', 'Po', 'Fa', 'TA', 'Gd', 'Ex'] for _ in ordinalFeatures]\n",
        "\n",
        "# Create an ordinal encoder\n",
        "ordinalEncoder = OrdinalEncoder(categories=ordinalCategories)\n",
        "\n",
        "# Fit and transform ordinal features\n",
        "ordinalEncoded = ordinalEncoder.fit_transform(df[ordinalFeatures])\n",
        "\n",
        "# Update dataframe with ordinal encoded features\n",
        "for i, feature in enumerate(ordinalFeatures):\n",
        "    df[feature] = ordinalEncoded[:, i]"
      ]
    },
    {
      "cell_type": "code",
      "execution_count": 14,
      "metadata": {
        "id": "LmnlNDmQgb0j"
      },
      "outputs": [],
      "source": [
        "# Define encoding categories for each other ordinal feature\n",
        "encodingCategories = [\n",
        "    ['None', 'No', 'Mn', 'Av', 'Gd'],  # BsmtExposure\n",
        "    ['None', 'Unf', 'LwQ', 'Rec', 'BLQ', 'ALQ', 'GLQ'],  # BsmtFinType1\n",
        "    ['None', 'Unf', 'LwQ', 'Rec', 'BLQ', 'ALQ', 'GLQ'],  # BsmtFinType2\n",
        "    ['Sev', 'Maj2', 'Maj1', 'Mod', 'Min2', 'Min1', 'Typ'],  # Functional\n",
        "    ['None', 'Unf', 'RFn', 'Fin']  # GarageFinish\n",
        "]\n",
        "\n",
        "# Create an ordinal encoder\n",
        "ordinalEncoder = OrdinalEncoder(categories=encodingCategories)\n",
        "\n",
        "# Fit and transform other ordinal features\n",
        "ordinalEncoded = ordinalEncoder.fit_transform(df[otherOrdinalFeatures])\n",
        "\n",
        "# Update dataframe with ordinal encoded features\n",
        "for i, feature in enumerate(otherOrdinalFeatures):\n",
        "    df[feature] = ordinalEncoded[:, i]"
      ]
    },
    {
      "cell_type": "markdown",
      "metadata": {
        "id": "WdMvxRLDgb0l"
      },
      "source": [
        "### Splitting DataSet"
      ]
    },
    {
      "cell_type": "code",
      "execution_count": 16,
      "metadata": {
        "id": "WZSPZVQigb0l"
      },
      "outputs": [],
      "source": [
        "# Create a copy of the dataframe\n",
        "df_cp = df.copy()\n",
        "\n",
        "# Separate target variable 'SalePrice' from features\n",
        "y = df_cp.pop('SalePrice')\n",
        "X = df_cp"
      ]
    },
    {
      "cell_type": "code",
      "execution_count": 17,
      "metadata": {
        "id": "6slpsvcmgb0m"
      },
      "outputs": [],
      "source": [
        "# Split the data into training and testing sets\n",
        "X_train, X_test, y_train, y_test = train_test_split(X, y, test_size=0.2, train_size=0.8, random_state=random_state)"
      ]
    },
    {
      "cell_type": "code",
      "execution_count": 20,
      "metadata": {
        "colab": {
          "base_uri": "https://localhost:8080/"
        },
        "id": "FOPD9Lr7gb0m",
        "outputId": "e729bbae-51b1-4d1c-de22-c75501dea758"
      },
      "outputs": [
        {
          "name": "stdout",
          "output_type": "stream",
          "text": [
            "(1160, 224)\n",
            "(291, 224)\n"
          ]
        }
      ],
      "source": [
        "print(X_train.shape)\n",
        "print(X_test.shape)"
      ]
    },
    {
      "cell_type": "markdown",
      "metadata": {
        "id": "So24C-eAgb0n"
      },
      "source": [
        "## Decision Trees 🌲"
      ]
    },
    {
      "cell_type": "markdown",
      "metadata": {
        "id": "aFKOrh1Ovpp8"
      },
      "source": [
        "### Initial Iteration Using All Variables"
      ]
    },
    {
      "cell_type": "code",
      "execution_count": 18,
      "metadata": {
        "id": "OiKuH6sKgb0n"
      },
      "outputs": [],
      "source": [
        "# Create a DecisionTreeRegressor model\n",
        "clf = DecisionTreeRegressor(max_depth=4, random_state=random_state)\n",
        "\n",
        "# Train the model on the training data\n",
        "clf = clf.fit(X_train, y_train)\n",
        "\n",
        "# Predict the target variable for the test data\n",
        "y_pred = clf.predict(X_test)"
      ]
    },
    {
      "cell_type": "code",
      "execution_count": 20,
      "metadata": {
        "colab": {
          "base_uri": "https://localhost:8080/",
          "height": 944
        },
        "id": "UkMqQ4zVgb0o",
        "outputId": "24baca99-5a34-4a78-cc10-8340d53d09d0"
      },
      "outputs": [
        {
          "data": {
            "text/plain": [
              "[Text(0.5, 0.9, 'OverallQual <= 7.5\\nsquared_error = 7659150419.573\\nsamples = 470\\nvalue = 217507.47'),\n",
              " Text(0.25, 0.7, 'OverallQual <= 6.5\\nsquared_error = 2036655717.28\\nsamples = 333\\nvalue = 177060.949'),\n",
              " Text(0.125, 0.5, 'GrLivArea <= 1260.0\\nsquared_error = 1130813774.714\\nsamples = 207\\nvalue = 156605.599'),\n",
              " Text(0.0625, 0.3, 'LotArea <= 2500.5\\nsquared_error = 520536638.591\\nsamples = 87\\nvalue = 135515.563'),\n",
              " Text(0.03125, 0.1, 'squared_error = 164076875.0\\nsamples = 8\\nvalue = 92425.0'),\n",
              " Text(0.09375, 0.1, 'squared_error = 349562773.859\\nsamples = 79\\nvalue = 139879.165'),\n",
              " Text(0.1875, 0.3, 'OverallQual <= 5.5\\nsquared_error = 1016999691.526\\nsamples = 120\\nvalue = 171895.875'),\n",
              " Text(0.15625, 0.1, 'squared_error = 596304000.657\\nsamples = 37\\nvalue = 148100.135'),\n",
              " Text(0.21875, 0.1, 'squared_error = 839595589.345\\nsamples = 83\\nvalue = 182503.614'),\n",
              " Text(0.375, 0.5, 'GrLivArea <= 2296.0\\nsquared_error = 1708107477.679\\nsamples = 126\\nvalue = 210666.167'),\n",
              " Text(0.3125, 0.3, 'MSSubClass <= 70.0\\nsquared_error = 1006566500.196\\nsamples = 116\\nvalue = 203316.267'),\n",
              " Text(0.28125, 0.1, 'squared_error = 830935752.905\\nsamples = 80\\nvalue = 213285.912'),\n",
              " Text(0.34375, 0.1, 'squared_error = 685148168.028\\nsamples = 36\\nvalue = 181161.5'),\n",
              " Text(0.4375, 0.3, 'BsmtExposure <= 1.5\\nsquared_error = 1950270305.0\\nsamples = 10\\nvalue = 295925.0'),\n",
              " Text(0.40625, 0.1, 'squared_error = 235970944.0\\nsamples = 5\\nvalue = 263856.0'),\n",
              " Text(0.46875, 0.1, 'squared_error = 1607728144.0\\nsamples = 5\\nvalue = 327994.0'),\n",
              " Text(0.75, 0.7, 'GrLivArea <= 2631.5\\nsquared_error = 7683969121.452\\nsamples = 137\\nvalue = 315819.088'),\n",
              " Text(0.625, 0.5, 'BsmtQual <= 4.5\\nsquared_error = 3920593079.036\\nsamples = 117\\nvalue = 298445.179'),\n",
              " Text(0.5625, 0.3, 'LotFrontage <= 46.0\\nsquared_error = 1467046054.974\\nsamples = 58\\nvalue = 262333.517'),\n",
              " Text(0.53125, 0.1, 'squared_error = 434673469.388\\nsamples = 7\\nvalue = 200071.429'),\n",
              " Text(0.59375, 0.1, 'squared_error = 1003636032.953\\nsamples = 51\\nvalue = 270879.294'),\n",
              " Text(0.6875, 0.3, 'BsmtFinSF1 <= 1277.0\\nsquared_error = 3790383376.477\\nsamples = 59\\nvalue = 333944.78'),\n",
              " Text(0.65625, 0.1, 'squared_error = 2128772023.513\\nsamples = 41\\nvalue = 311563.268'),\n",
              " Text(0.71875, 0.1, 'squared_error = 3835181360.432\\nsamples = 18\\nvalue = 384924.889'),\n",
              " Text(0.875, 0.5, 'OpenPorchSF <= 187.0\\nsquared_error = 17603727337.747\\nsamples = 20\\nvalue = 417456.45'),\n",
              " Text(0.8125, 0.3, 'MoSold <= 2.0\\nsquared_error = 11533139394.249\\nsamples = 17\\nvalue = 453210.529'),\n",
              " Text(0.78125, 0.1, 'squared_error = 7401763122.25\\nsamples = 2\\nvalue = 668966.5'),\n",
              " Text(0.84375, 0.1, 'squared_error = 5049670805.129\\nsamples = 15\\nvalue = 424443.067'),\n",
              " Text(0.9375, 0.3, 'BsmtHalfBath <= 0.5\\nsquared_error = 3710345000.0\\nsamples = 3\\nvalue = 214850.0'),\n",
              " Text(0.90625, 0.1, 'squared_error = 153140625.0\\nsamples = 2\\nvalue = 172375.0'),\n",
              " Text(0.96875, 0.1, 'squared_error = 0.0\\nsamples = 1\\nvalue = 299800.0')]"
            ]
          },
          "execution_count": 20,
          "metadata": {},
          "output_type": "execute_result"
        },
        {
          "data": {
            "image/png": "[encoded data removed]",
            "text/plain": [
              "<Figure size 640x480 with 1 Axes>"
            ]
          },
          "metadata": {},
          "output_type": "display_data"
        }
      ],
      "source": [
        "# Plot the decision tree\n",
        "tree.plot_tree(clf, feature_names=df.columns, class_names=True, filled=True, fontsize=1)"
      ]
    },
    {
      "cell_type": "code",
      "execution_count": 23,
      "metadata": {
        "colab": {
          "base_uri": "https://localhost:8080/"
        },
        "id": "Uzjk-trrgb0p",
        "outputId": "1a54dd2f-ca12-411b-8fba-d1ed37b3eb6f"
      },
      "outputs": [
        {
          "name": "stdout",
          "output_type": "stream",
          "text": [
            "MSE: 1254946595.7304223\n",
            "MAE: 26864.915192040666\n",
            "R²: 0.7750612703785592\n"
          ]
        }
      ],
      "source": [
        "# Print the evaluation metrics\n",
        "print(\"MSE:\", mean_squared_error(y_test, y_pred))\n",
        "print(\"MAE:\", mean_absolute_error(y_test, y_pred))\n",
        "print(\"R²:\", r2_score(y_test, y_pred))"
      ]
    },
    {
      "cell_type": "markdown",
      "metadata": {
        "id": "AN9vUKwfuNF7"
      },
      "source": [
        "Observamos que el modelo de árbol de decisión, que incorpora la totalidad de las variables predictoras con una profundidad máxima inicial establecida en 4 niveles, logra un desempeño notable, reflejado en un Coeficiente de Determinación (R²) de 0.77. Este resultado indica que el modelo es capaz de explicar el 77% de la variabilidad observada en la variable de respuesta, lo cual es una señal de una buena capacidad predictiva bajo este contexto."
      ]
    },
    {
      "cell_type": "markdown",
      "metadata": {
        "id": "L0HAEWU7ytg-"
      },
      "source": [
        "Es relevante destacar que el ajuste de la profundidad máxima del árbol a 4 niveles representa un equilibrio entre complejidad y capacidad de generalización. Una profundidad limitada ayuda a prevenir el sobreajuste, permitiendo que el modelo mantenga un buen performance."
      ]
    },
    {
      "cell_type": "markdown",
      "metadata": {
        "id": "-D01B6KXvy2Q"
      },
      "source": [
        "#### Depth Tuning of Initial Iteration"
      ]
    },
    {
      "cell_type": "code",
      "execution_count": 24,
      "metadata": {
        "colab": {
          "base_uri": "https://localhost:8080/"
        },
        "id": "s7_pBwDdgb0q",
        "outputId": "b335a307-4a98-4aaf-efe3-17bb5bec1b52"
      },
      "outputs": [
        {
          "name": "stdout",
          "output_type": "stream",
          "text": [
            "Results for max depth = 3:\n",
            "MSE: 1430571606.6635401\n",
            "MAE: 28349.426418223888\n",
            "R²: 0.7435819492795972\n",
            "------------------------------------------------\n",
            "Results for max depth = 4:\n",
            "MSE: 1254946595.7304223\n",
            "MAE: 26864.915192040666\n",
            "R²: 0.7750612703785592\n",
            "------------------------------------------------\n",
            "Results for max depth = 5:\n",
            "MSE: 1051825618.778898\n",
            "MAE: 24322.99813299098\n",
            "R²: 0.8114690144773021\n",
            "------------------------------------------------\n",
            "Results for max depth = 6:\n",
            "MSE: 975745883.2408556\n",
            "MAE: 23246.587320215127\n",
            "R²: 0.825105673694583\n",
            "------------------------------------------------\n",
            "Results for max depth = 7:\n",
            "MSE: 956420812.7161406\n",
            "MAE: 22757.68130691594\n",
            "R²: 0.8285695317013406\n",
            "------------------------------------------------\n",
            "Results for max depth = 8:\n",
            "MSE: 1081800510.362849\n",
            "MAE: 23242.83097616941\n",
            "R²: 0.8060962647074126\n",
            "------------------------------------------------\n",
            "Results for max depth = 9:\n",
            "MSE: 1111980263.2924912\n",
            "MAE: 23473.673017542533\n",
            "R²: 0.8006867952468165\n",
            "------------------------------------------------\n",
            "Results for max depth = 10:\n",
            "MSE: 1110740006.8248749\n",
            "MAE: 23597.146458050403\n",
            "R²: 0.8009091008932715\n",
            "------------------------------------------------\n"
          ]
        }
      ],
      "source": [
        "depths = range(3, 11)\n",
        "\n",
        "# Iterate over each depth\n",
        "for depth in depths:\n",
        "    # Create and train a DecisionTreeRegressor model with the current depth\n",
        "    model = DecisionTreeRegressor(max_depth=depth, random_state=42)\n",
        "    model.fit(X_train, y_train)\n",
        "    \n",
        "    # Make predictions on the test data\n",
        "    y_pred = model.predict(X_test)\n",
        "\n",
        "    # Print evaluation metrics for the current depth\n",
        "    print(f\"Results for max depth = {depth}:\")\n",
        "    print(\"MSE:\", mean_squared_error(y_test, y_pred))\n",
        "    print(\"MAE:\", mean_absolute_error(y_test, y_pred))\n",
        "    print(\"R²:\", r2_score(y_test, y_pred))\n",
        "    print(\"------------------------------------------------\")"
      ]
    },
    {
      "cell_type": "markdown",
      "metadata": {
        "id": "i5qH9gz-gb0q"
      },
      "source": [
        "Basado en los resultados, cada modelo tiene su propio conjunto de compensaciones.\n",
        "- Con una profundidad máxima de 3, el modelo tiene la complejidad más baja. Tiene el mejor valor R² entre los tres, lo que indica un ajuste relativamente bueno a los datos a pesar de su simplicidad.\n",
        "- Con una profundidad de 5, es evidente que es más complejo que el anterior porque muestra una disminución en el rendimiento según el valor R², lo que indica un ajuste ligeramente peor a los datos. Tiene el MSE y MAE más altos, lo que sugiere más errores en sus predicciones.\n",
        "- El modelo más complejo, con una profundidad de 10, muestra una mejora con respecto al modelo de profundidad 5 en términos de MSE, MAE y R². Se encuentra en un punto medio entre los dos primeros modelos en términos tanto de métricas de error como de ajust\n",
        "\n",
        "Con el análisis anterior, el mejor modelo sería con profundidad 3. Esto porque es el que presenta el valor más alto de R², lo que indica que es el que mejor explica la variabilidad de los precios de las casas. Aunque su MSE y MAE son ligeramente más altos en comparación con el modelo de profundidad 10, el mayor valor de R² sugiere que tiene una mejor capacidad de generalización."
      ]
    },
    {
      "cell_type": "markdown",
      "metadata": {
        "id": "9u6Z7WTfvYax"
      },
      "source": [
        "### Second Iteration Using a New Variable"
      ]
    },
    {
      "cell_type": "markdown",
      "metadata": {
        "id": "vJ5LFUPGxLxK"
      },
      "source": [
        "#### Feature Engineering"
      ]
    },
    {
      "cell_type": "code",
      "execution_count": 25,
      "metadata": {
        "colab": {
          "base_uri": "https://localhost:8080/",
          "height": 444
        },
        "id": "1qZC4a6mvnEO",
        "outputId": "a89f8e7a-633e-4d2a-97a2-0ac619f05f02"
      },
      "outputs": [
        {
          "data": {
            "application/vnd.google.colaboratory.intrinsic+json": {
              "type": "dataframe",
              "variable_name": "df_cp"
            },
            "text/html": [
              "\n",
              "  <div id=\"df-9a39441e-baaa-4bfb-ae90-00400e072522\" class=\"colab-df-container\">\n",
              "    <div>\n",
              "<style scoped>\n",
              "    .dataframe tbody tr th:only-of-type {\n",
              "        vertical-align: middle;\n",
              "    }\n",
              "\n",
              "    .dataframe tbody tr th {\n",
              "        vertical-align: top;\n",
              "    }\n",
              "\n",
              "    .dataframe thead th {\n",
              "        text-align: right;\n",
              "    }\n",
              "</style>\n",
              "<table border=\"1\" class=\"dataframe\">\n",
              "  <thead>\n",
              "    <tr style=\"text-align: right;\">\n",
              "      <th></th>\n",
              "      <th>Id</th>\n",
              "      <th>MSSubClass</th>\n",
              "      <th>LotFrontage</th>\n",
              "      <th>LotArea</th>\n",
              "      <th>OverallQual</th>\n",
              "      <th>OverallCond</th>\n",
              "      <th>YearBuilt</th>\n",
              "      <th>YearRemodAdd</th>\n",
              "      <th>MasVnrArea</th>\n",
              "      <th>ExterQual</th>\n",
              "      <th>...</th>\n",
              "      <th>SaleCondition_Abnorml</th>\n",
              "      <th>SaleCondition_AdjLand</th>\n",
              "      <th>SaleCondition_Alloca</th>\n",
              "      <th>SaleCondition_Family</th>\n",
              "      <th>SaleCondition_Normal</th>\n",
              "      <th>SaleCondition_Partial</th>\n",
              "      <th>PavedDrive_N</th>\n",
              "      <th>PavedDrive_P</th>\n",
              "      <th>PavedDrive_Y</th>\n",
              "      <th>SalePriceCategory</th>\n",
              "    </tr>\n",
              "  </thead>\n",
              "  <tbody>\n",
              "    <tr>\n",
              "      <th>0</th>\n",
              "      <td>1</td>\n",
              "      <td>60</td>\n",
              "      <td>65.0</td>\n",
              "      <td>8450</td>\n",
              "      <td>7</td>\n",
              "      <td>5</td>\n",
              "      <td>2003</td>\n",
              "      <td>2003</td>\n",
              "      <td>196.0</td>\n",
              "      <td>4.0</td>\n",
              "      <td>...</td>\n",
              "      <td>0</td>\n",
              "      <td>0</td>\n",
              "      <td>0</td>\n",
              "      <td>0</td>\n",
              "      <td>1</td>\n",
              "      <td>0</td>\n",
              "      <td>0</td>\n",
              "      <td>0</td>\n",
              "      <td>1</td>\n",
              "      <td>intermediate</td>\n",
              "    </tr>\n",
              "    <tr>\n",
              "      <th>1</th>\n",
              "      <td>2</td>\n",
              "      <td>20</td>\n",
              "      <td>80.0</td>\n",
              "      <td>9600</td>\n",
              "      <td>6</td>\n",
              "      <td>8</td>\n",
              "      <td>1976</td>\n",
              "      <td>1976</td>\n",
              "      <td>0.0</td>\n",
              "      <td>3.0</td>\n",
              "      <td>...</td>\n",
              "      <td>0</td>\n",
              "      <td>0</td>\n",
              "      <td>0</td>\n",
              "      <td>0</td>\n",
              "      <td>1</td>\n",
              "      <td>0</td>\n",
              "      <td>0</td>\n",
              "      <td>0</td>\n",
              "      <td>1</td>\n",
              "      <td>intermediate</td>\n",
              "    </tr>\n",
              "    <tr>\n",
              "      <th>2</th>\n",
              "      <td>3</td>\n",
              "      <td>60</td>\n",
              "      <td>68.0</td>\n",
              "      <td>11250</td>\n",
              "      <td>7</td>\n",
              "      <td>5</td>\n",
              "      <td>2001</td>\n",
              "      <td>2002</td>\n",
              "      <td>162.0</td>\n",
              "      <td>4.0</td>\n",
              "      <td>...</td>\n",
              "      <td>0</td>\n",
              "      <td>0</td>\n",
              "      <td>0</td>\n",
              "      <td>0</td>\n",
              "      <td>1</td>\n",
              "      <td>0</td>\n",
              "      <td>0</td>\n",
              "      <td>0</td>\n",
              "      <td>1</td>\n",
              "      <td>intermediate</td>\n",
              "    </tr>\n",
              "    <tr>\n",
              "      <th>3</th>\n",
              "      <td>4</td>\n",
              "      <td>70</td>\n",
              "      <td>60.0</td>\n",
              "      <td>9550</td>\n",
              "      <td>7</td>\n",
              "      <td>5</td>\n",
              "      <td>1915</td>\n",
              "      <td>1970</td>\n",
              "      <td>0.0</td>\n",
              "      <td>3.0</td>\n",
              "      <td>...</td>\n",
              "      <td>1</td>\n",
              "      <td>0</td>\n",
              "      <td>0</td>\n",
              "      <td>0</td>\n",
              "      <td>0</td>\n",
              "      <td>0</td>\n",
              "      <td>0</td>\n",
              "      <td>0</td>\n",
              "      <td>1</td>\n",
              "      <td>economical</td>\n",
              "    </tr>\n",
              "    <tr>\n",
              "      <th>4</th>\n",
              "      <td>5</td>\n",
              "      <td>60</td>\n",
              "      <td>84.0</td>\n",
              "      <td>14260</td>\n",
              "      <td>8</td>\n",
              "      <td>5</td>\n",
              "      <td>2000</td>\n",
              "      <td>2000</td>\n",
              "      <td>350.0</td>\n",
              "      <td>4.0</td>\n",
              "      <td>...</td>\n",
              "      <td>0</td>\n",
              "      <td>0</td>\n",
              "      <td>0</td>\n",
              "      <td>0</td>\n",
              "      <td>1</td>\n",
              "      <td>0</td>\n",
              "      <td>0</td>\n",
              "      <td>0</td>\n",
              "      <td>1</td>\n",
              "      <td>intermediate</td>\n",
              "    </tr>\n",
              "    <tr>\n",
              "      <th>...</th>\n",
              "      <td>...</td>\n",
              "      <td>...</td>\n",
              "      <td>...</td>\n",
              "      <td>...</td>\n",
              "      <td>...</td>\n",
              "      <td>...</td>\n",
              "      <td>...</td>\n",
              "      <td>...</td>\n",
              "      <td>...</td>\n",
              "      <td>...</td>\n",
              "      <td>...</td>\n",
              "      <td>...</td>\n",
              "      <td>...</td>\n",
              "      <td>...</td>\n",
              "      <td>...</td>\n",
              "      <td>...</td>\n",
              "      <td>...</td>\n",
              "      <td>...</td>\n",
              "      <td>...</td>\n",
              "      <td>...</td>\n",
              "      <td>...</td>\n",
              "    </tr>\n",
              "    <tr>\n",
              "      <th>1455</th>\n",
              "      <td>1456</td>\n",
              "      <td>60</td>\n",
              "      <td>62.0</td>\n",
              "      <td>7917</td>\n",
              "      <td>6</td>\n",
              "      <td>5</td>\n",
              "      <td>1999</td>\n",
              "      <td>2000</td>\n",
              "      <td>0.0</td>\n",
              "      <td>3.0</td>\n",
              "      <td>...</td>\n",
              "      <td>0</td>\n",
              "      <td>0</td>\n",
              "      <td>0</td>\n",
              "      <td>0</td>\n",
              "      <td>1</td>\n",
              "      <td>0</td>\n",
              "      <td>0</td>\n",
              "      <td>0</td>\n",
              "      <td>1</td>\n",
              "      <td>intermediate</td>\n",
              "    </tr>\n",
              "    <tr>\n",
              "      <th>1456</th>\n",
              "      <td>1457</td>\n",
              "      <td>20</td>\n",
              "      <td>85.0</td>\n",
              "      <td>13175</td>\n",
              "      <td>6</td>\n",
              "      <td>6</td>\n",
              "      <td>1978</td>\n",
              "      <td>1988</td>\n",
              "      <td>119.0</td>\n",
              "      <td>3.0</td>\n",
              "      <td>...</td>\n",
              "      <td>0</td>\n",
              "      <td>0</td>\n",
              "      <td>0</td>\n",
              "      <td>0</td>\n",
              "      <td>1</td>\n",
              "      <td>0</td>\n",
              "      <td>0</td>\n",
              "      <td>0</td>\n",
              "      <td>1</td>\n",
              "      <td>intermediate</td>\n",
              "    </tr>\n",
              "    <tr>\n",
              "      <th>1457</th>\n",
              "      <td>1458</td>\n",
              "      <td>70</td>\n",
              "      <td>66.0</td>\n",
              "      <td>9042</td>\n",
              "      <td>7</td>\n",
              "      <td>9</td>\n",
              "      <td>1941</td>\n",
              "      <td>2006</td>\n",
              "      <td>0.0</td>\n",
              "      <td>5.0</td>\n",
              "      <td>...</td>\n",
              "      <td>0</td>\n",
              "      <td>0</td>\n",
              "      <td>0</td>\n",
              "      <td>0</td>\n",
              "      <td>1</td>\n",
              "      <td>0</td>\n",
              "      <td>0</td>\n",
              "      <td>0</td>\n",
              "      <td>1</td>\n",
              "      <td>expensive</td>\n",
              "    </tr>\n",
              "    <tr>\n",
              "      <th>1458</th>\n",
              "      <td>1459</td>\n",
              "      <td>20</td>\n",
              "      <td>68.0</td>\n",
              "      <td>9717</td>\n",
              "      <td>5</td>\n",
              "      <td>6</td>\n",
              "      <td>1950</td>\n",
              "      <td>1996</td>\n",
              "      <td>0.0</td>\n",
              "      <td>3.0</td>\n",
              "      <td>...</td>\n",
              "      <td>0</td>\n",
              "      <td>0</td>\n",
              "      <td>0</td>\n",
              "      <td>0</td>\n",
              "      <td>1</td>\n",
              "      <td>0</td>\n",
              "      <td>0</td>\n",
              "      <td>0</td>\n",
              "      <td>1</td>\n",
              "      <td>economical</td>\n",
              "    </tr>\n",
              "    <tr>\n",
              "      <th>1459</th>\n",
              "      <td>1460</td>\n",
              "      <td>20</td>\n",
              "      <td>75.0</td>\n",
              "      <td>9937</td>\n",
              "      <td>5</td>\n",
              "      <td>6</td>\n",
              "      <td>1965</td>\n",
              "      <td>1965</td>\n",
              "      <td>0.0</td>\n",
              "      <td>4.0</td>\n",
              "      <td>...</td>\n",
              "      <td>0</td>\n",
              "      <td>0</td>\n",
              "      <td>0</td>\n",
              "      <td>0</td>\n",
              "      <td>1</td>\n",
              "      <td>0</td>\n",
              "      <td>0</td>\n",
              "      <td>0</td>\n",
              "      <td>1</td>\n",
              "      <td>economical</td>\n",
              "    </tr>\n",
              "  </tbody>\n",
              "</table>\n",
              "<p>1451 rows × 226 columns</p>\n",
              "</div>\n",
              "    <div class=\"colab-df-buttons\">\n",
              "\n",
              "  <div class=\"colab-df-container\">\n",
              "    <button class=\"colab-df-convert\" onclick=\"convertToInteractive('df-9a39441e-baaa-4bfb-ae90-00400e072522')\"\n",
              "            title=\"Convert this dataframe to an interactive table.\"\n",
              "            style=\"display:none;\">\n",
              "\n",
              "  <svg xmlns=\"http://www.w3.org/2000/svg\" height=\"24px\" viewBox=\"0 -960 960 960\">\n",
              "    <path d=\"M120-120v-720h720v720H120Zm60-500h600v-160H180v160Zm220 220h160v-160H400v160Zm0 220h160v-160H400v160ZM180-400h160v-160H180v160Zm440 0h160v-160H620v160ZM180-180h160v-160H180v160Zm440 0h160v-160H620v160Z\"/>\n",
              "  </svg>\n",
              "    </button>\n",
              "\n",
              "  <style>\n",
              "    .colab-df-container {\n",
              "      display:flex;\n",
              "      gap: 12px;\n",
              "    }\n",
              "\n",
              "    .colab-df-convert {\n",
              "      background-color: #E8F0FE;\n",
              "      border: none;\n",
              "      border-radius: 50%;\n",
              "      cursor: pointer;\n",
              "      display: none;\n",
              "      fill: #1967D2;\n",
              "      height: 32px;\n",
              "      padding: 0 0 0 0;\n",
              "      width: 32px;\n",
              "    }\n",
              "\n",
              "    .colab-df-convert:hover {\n",
              "      background-color: #E2EBFA;\n",
              "      box-shadow: 0px 1px 2px rgba(60, 64, 67, 0.3), 0px 1px 3px 1px rgba(60, 64, 67, 0.15);\n",
              "      fill: #174EA6;\n",
              "    }\n",
              "\n",
              "    .colab-df-buttons div {\n",
              "      margin-bottom: 4px;\n",
              "    }\n",
              "\n",
              "    [theme=dark] .colab-df-convert {\n",
              "      background-color: #3B4455;\n",
              "      fill: #D2E3FC;\n",
              "    }\n",
              "\n",
              "    [theme=dark] .colab-df-convert:hover {\n",
              "      background-color: #434B5C;\n",
              "      box-shadow: 0px 1px 3px 1px rgba(0, 0, 0, 0.15);\n",
              "      filter: drop-shadow(0px 1px 2px rgba(0, 0, 0, 0.3));\n",
              "      fill: #FFFFFF;\n",
              "    }\n",
              "  </style>\n",
              "\n",
              "    <script>\n",
              "      const buttonEl =\n",
              "        document.querySelector('#df-9a39441e-baaa-4bfb-ae90-00400e072522 button.colab-df-convert');\n",
              "      buttonEl.style.display =\n",
              "        google.colab.kernel.accessAllowed ? 'block' : 'none';\n",
              "\n",
              "      async function convertToInteractive(key) {\n",
              "        const element = document.querySelector('#df-9a39441e-baaa-4bfb-ae90-00400e072522');\n",
              "        const dataTable =\n",
              "          await google.colab.kernel.invokeFunction('convertToInteractive',\n",
              "                                                    [key], {});\n",
              "        if (!dataTable) return;\n",
              "\n",
              "        const docLinkHtml = 'Like what you see? Visit the ' +\n",
              "          '<a target=\"_blank\" href=https://colab.research.google.com/notebooks/data_table.ipynb>data table notebook</a>'\n",
              "          + ' to learn more about interactive tables.';\n",
              "        element.innerHTML = '';\n",
              "        dataTable['output_type'] = 'display_data';\n",
              "        await google.colab.output.renderOutput(dataTable, element);\n",
              "        const docLink = document.createElement('div');\n",
              "        docLink.innerHTML = docLinkHtml;\n",
              "        element.appendChild(docLink);\n",
              "      }\n",
              "    </script>\n",
              "  </div>\n",
              "\n",
              "\n",
              "<div id=\"df-82b9edd4-9165-4229-ab38-9adcacf027eb\">\n",
              "  <button class=\"colab-df-quickchart\" onclick=\"quickchart('df-82b9edd4-9165-4229-ab38-9adcacf027eb')\"\n",
              "            title=\"Suggest charts\"\n",
              "            style=\"display:none;\">\n",
              "\n",
              "<svg xmlns=\"http://www.w3.org/2000/svg\" height=\"24px\"viewBox=\"0 0 24 24\"\n",
              "     width=\"24px\">\n",
              "    <g>\n",
              "        <path d=\"M19 3H5c-1.1 0-2 .9-2 2v14c0 1.1.9 2 2 2h14c1.1 0 2-.9 2-2V5c0-1.1-.9-2-2-2zM9 17H7v-7h2v7zm4 0h-2V7h2v10zm4 0h-2v-4h2v4z\"/>\n",
              "    </g>\n",
              "</svg>\n",
              "  </button>\n",
              "\n",
              "<style>\n",
              "  .colab-df-quickchart {\n",
              "      --bg-color: #E8F0FE;\n",
              "      --fill-color: #1967D2;\n",
              "      --hover-bg-color: #E2EBFA;\n",
              "      --hover-fill-color: #174EA6;\n",
              "      --disabled-fill-color: #AAA;\n",
              "      --disabled-bg-color: #DDD;\n",
              "  }\n",
              "\n",
              "  [theme=dark] .colab-df-quickchart {\n",
              "      --bg-color: #3B4455;\n",
              "      --fill-color: #D2E3FC;\n",
              "      --hover-bg-color: #434B5C;\n",
              "      --hover-fill-color: #FFFFFF;\n",
              "      --disabled-bg-color: #3B4455;\n",
              "      --disabled-fill-color: #666;\n",
              "  }\n",
              "\n",
              "  .colab-df-quickchart {\n",
              "    background-color: var(--bg-color);\n",
              "    border: none;\n",
              "    border-radius: 50%;\n",
              "    cursor: pointer;\n",
              "    display: none;\n",
              "    fill: var(--fill-color);\n",
              "    height: 32px;\n",
              "    padding: 0;\n",
              "    width: 32px;\n",
              "  }\n",
              "\n",
              "  .colab-df-quickchart:hover {\n",
              "    background-color: var(--hover-bg-color);\n",
              "    box-shadow: 0 1px 2px rgba(60, 64, 67, 0.3), 0 1px 3px 1px rgba(60, 64, 67, 0.15);\n",
              "    fill: var(--button-hover-fill-color);\n",
              "  }\n",
              "\n",
              "  .colab-df-quickchart-complete:disabled,\n",
              "  .colab-df-quickchart-complete:disabled:hover {\n",
              "    background-color: var(--disabled-bg-color);\n",
              "    fill: var(--disabled-fill-color);\n",
              "    box-shadow: none;\n",
              "  }\n",
              "\n",
              "  .colab-df-spinner {\n",
              "    border: 2px solid var(--fill-color);\n",
              "    border-color: transparent;\n",
              "    border-bottom-color: var(--fill-color);\n",
              "    animation:\n",
              "      spin 1s steps(1) infinite;\n",
              "  }\n",
              "\n",
              "  @keyframes spin {\n",
              "    0% {\n",
              "      border-color: transparent;\n",
              "      border-bottom-color: var(--fill-color);\n",
              "      border-left-color: var(--fill-color);\n",
              "    }\n",
              "    20% {\n",
              "      border-color: transparent;\n",
              "      border-left-color: var(--fill-color);\n",
              "      border-top-color: var(--fill-color);\n",
              "    }\n",
              "    30% {\n",
              "      border-color: transparent;\n",
              "      border-left-color: var(--fill-color);\n",
              "      border-top-color: var(--fill-color);\n",
              "      border-right-color: var(--fill-color);\n",
              "    }\n",
              "    40% {\n",
              "      border-color: transparent;\n",
              "      border-right-color: var(--fill-color);\n",
              "      border-top-color: var(--fill-color);\n",
              "    }\n",
              "    60% {\n",
              "      border-color: transparent;\n",
              "      border-right-color: var(--fill-color);\n",
              "    }\n",
              "    80% {\n",
              "      border-color: transparent;\n",
              "      border-right-color: var(--fill-color);\n",
              "      border-bottom-color: var(--fill-color);\n",
              "    }\n",
              "    90% {\n",
              "      border-color: transparent;\n",
              "      border-bottom-color: var(--fill-color);\n",
              "    }\n",
              "  }\n",
              "</style>\n",
              "\n",
              "  <script>\n",
              "    async function quickchart(key) {\n",
              "      const quickchartButtonEl =\n",
              "        document.querySelector('#' + key + ' button');\n",
              "      quickchartButtonEl.disabled = true;  // To prevent multiple clicks.\n",
              "      quickchartButtonEl.classList.add('colab-df-spinner');\n",
              "      try {\n",
              "        const charts = await google.colab.kernel.invokeFunction(\n",
              "            'suggestCharts', [key], {});\n",
              "      } catch (error) {\n",
              "        console.error('Error during call to suggestCharts:', error);\n",
              "      }\n",
              "      quickchartButtonEl.classList.remove('colab-df-spinner');\n",
              "      quickchartButtonEl.classList.add('colab-df-quickchart-complete');\n",
              "    }\n",
              "    (() => {\n",
              "      let quickchartButtonEl =\n",
              "        document.querySelector('#df-82b9edd4-9165-4229-ab38-9adcacf027eb button');\n",
              "      quickchartButtonEl.style.display =\n",
              "        google.colab.kernel.accessAllowed ? 'block' : 'none';\n",
              "    })();\n",
              "  </script>\n",
              "</div>\n",
              "    </div>\n",
              "  </div>\n"
            ],
            "text/plain": [
              "        Id  MSSubClass  LotFrontage  LotArea  OverallQual  OverallCond  \\\n",
              "0        1          60         65.0     8450            7            5   \n",
              "1        2          20         80.0     9600            6            8   \n",
              "2        3          60         68.0    11250            7            5   \n",
              "3        4          70         60.0     9550            7            5   \n",
              "4        5          60         84.0    14260            8            5   \n",
              "...    ...         ...          ...      ...          ...          ...   \n",
              "1455  1456          60         62.0     7917            6            5   \n",
              "1456  1457          20         85.0    13175            6            6   \n",
              "1457  1458          70         66.0     9042            7            9   \n",
              "1458  1459          20         68.0     9717            5            6   \n",
              "1459  1460          20         75.0     9937            5            6   \n",
              "\n",
              "      YearBuilt  YearRemodAdd  MasVnrArea  ExterQual  ...  \\\n",
              "0          2003          2003       196.0        4.0  ...   \n",
              "1          1976          1976         0.0        3.0  ...   \n",
              "2          2001          2002       162.0        4.0  ...   \n",
              "3          1915          1970         0.0        3.0  ...   \n",
              "4          2000          2000       350.0        4.0  ...   \n",
              "...         ...           ...         ...        ...  ...   \n",
              "1455       1999          2000         0.0        3.0  ...   \n",
              "1456       1978          1988       119.0        3.0  ...   \n",
              "1457       1941          2006         0.0        5.0  ...   \n",
              "1458       1950          1996         0.0        3.0  ...   \n",
              "1459       1965          1965         0.0        4.0  ...   \n",
              "\n",
              "      SaleCondition_Abnorml  SaleCondition_AdjLand  SaleCondition_Alloca  \\\n",
              "0                         0                      0                     0   \n",
              "1                         0                      0                     0   \n",
              "2                         0                      0                     0   \n",
              "3                         1                      0                     0   \n",
              "4                         0                      0                     0   \n",
              "...                     ...                    ...                   ...   \n",
              "1455                      0                      0                     0   \n",
              "1456                      0                      0                     0   \n",
              "1457                      0                      0                     0   \n",
              "1458                      0                      0                     0   \n",
              "1459                      0                      0                     0   \n",
              "\n",
              "      SaleCondition_Family  SaleCondition_Normal  SaleCondition_Partial  \\\n",
              "0                        0                     1                      0   \n",
              "1                        0                     1                      0   \n",
              "2                        0                     1                      0   \n",
              "3                        0                     0                      0   \n",
              "4                        0                     1                      0   \n",
              "...                    ...                   ...                    ...   \n",
              "1455                     0                     1                      0   \n",
              "1456                     0                     1                      0   \n",
              "1457                     0                     1                      0   \n",
              "1458                     0                     1                      0   \n",
              "1459                     0                     1                      0   \n",
              "\n",
              "      PavedDrive_N  PavedDrive_P  PavedDrive_Y  SalePriceCategory  \n",
              "0                0             0             1       intermediate  \n",
              "1                0             0             1       intermediate  \n",
              "2                0             0             1       intermediate  \n",
              "3                0             0             1         economical  \n",
              "4                0             0             1       intermediate  \n",
              "...            ...           ...           ...                ...  \n",
              "1455             0             0             1       intermediate  \n",
              "1456             0             0             1       intermediate  \n",
              "1457             0             0             1          expensive  \n",
              "1458             0             0             1         economical  \n",
              "1459             0             0             1         economical  \n",
              "\n",
              "[1451 rows x 226 columns]"
            ]
          },
          "execution_count": 25,
          "metadata": {},
          "output_type": "execute_result"
        }
      ],
      "source": [
        "# Make another copy of the dataframe\n",
        "df_cp = df.copy()\n",
        "\n",
        "# Define conditions for categorizing SalePrice\n",
        "conditions = [\n",
        "    (df_cp['SalePrice'] < 150000),\n",
        "    (df_cp['SalePrice'] >= 150000) & (df_cp['SalePrice'] <= 250000),\n",
        "    (df_cp['SalePrice'] > 250000)\n",
        "]\n",
        "\n",
        "# Define labels for the categories\n",
        "labels = ['economical', 'intermediate', 'expensive']\n",
        "\n",
        "# Create a new column 'SalePriceCategory' based on the conditions and labels\n",
        "df_cp['SalePriceCategory'] = np.select(conditions, labels)\n",
        "\n",
        "df_cp"
      ]
    },
    {
      "cell_type": "markdown",
      "metadata": {
        "id": "191z6Ebjy-FZ"
      },
      "source": [
        "A partir del análisis exploratorio de datos realizado, se observó que la variable SalePrice presenta una serie de datos atípicos y no sigue una distribución normal. La concentración predominante de los valores de venta se sitúa entre 150,000 y 250,000 dólares, tal como se refleja en el análisis cuartílico. Teniendo en cuenta estas observaciones, se propone una clasificación de las viviendas en función de su precio de venta para facilitar el análisis y la interpretación de los datos. Esta clasificación es la siguiente:\n",
        "\n",
        "- Casas de gama alta: corresponden a aquellas propiedades cuyo precio excede los 250,000 dólares.\n",
        "\n",
        "- Casas de gama media: este grupo incluye las viviendas con precios que oscilan entre 150,000 y 250,000 dólares.\n",
        "\n",
        "- Casas económicas: se refiere a las viviendas cuyo precio es inferior a 150,000 dólares."
      ]
    },
    {
      "cell_type": "markdown",
      "metadata": {
        "id": "KjM171WyzOmh"
      },
      "source": [
        "#### New Decision Tree"
      ]
    },
    {
      "cell_type": "code",
      "execution_count": 26,
      "metadata": {
        "id": "5KA2hRPgzJg5"
      },
      "outputs": [],
      "source": [
        "# Separate the target variable 'SalePriceCategory' from features\n",
        "y = df_cp.pop('SalePriceCategory')\n",
        "\n",
        "# Exclude columns 'Id' and 'SalePrice' from features\n",
        "X = df_cp.loc[:, ~df_cp.columns.isin(['Id', 'SalePrice'])]"
      ]
    },
    {
      "cell_type": "code",
      "execution_count": 27,
      "metadata": {
        "id": "WmelkrZQznby"
      },
      "outputs": [],
      "source": [
        "# Split the data into training and testing sets\n",
        "X_train, X_test, y_train, y_test = train_test_split(X, y, test_size=0.2, train_size=0.8, random_state=random_state)"
      ]
    },
    {
      "cell_type": "code",
      "execution_count": 32,
      "metadata": {
        "colab": {
          "base_uri": "https://localhost:8080/"
        },
        "id": "Uj_zTf2KvNbi",
        "outputId": "45302efe-dab4-404a-b8ca-b4a297f24a6a"
      },
      "outputs": [
        {
          "name": "stdout",
          "output_type": "stream",
          "text": [
            "(1160, 223)\n",
            "(291, 223)\n"
          ]
        }
      ],
      "source": [
        "print(X_train.shape)\n",
        "print(X_test.shape)"
      ]
    },
    {
      "cell_type": "code",
      "execution_count": 28,
      "metadata": {
        "id": "413DKVnVzqqm"
      },
      "outputs": [],
      "source": [
        "# Create a DecisionTreeClassifier model\n",
        "clf = DecisionTreeClassifier(max_depth=4, random_state=random_state)\n",
        "\n",
        "# Train the model\n",
        "clf = clf.fit(X_train, y_train)\n",
        "\n",
        "# Predict the target variable for the test data\n",
        "y_pred = clf.predict(X_test)"
      ]
    },
    {
      "cell_type": "code",
      "execution_count": 29,
      "metadata": {
        "colab": {
          "base_uri": "https://localhost:8080/",
          "height": 944
        },
        "id": "ENyUX0r4zva2",
        "outputId": "85bae4f9-6eee-48bd-9420-03775fc6aef6"
      },
      "outputs": [
        {
          "data": {
            "text/plain": [
              "[Text(0.5, 0.9, 'LotArea <= 5.5\\ngini = 0.614\\nsamples = 1160\\nvalue = [487, 170, 503]\\nclass = y[2]'),\n",
              " Text(0.25, 0.7, 'BsmtUnfSF <= 1150.0\\ngini = 0.287\\nsamples = 433\\nvalue = [358, 1, 74]\\nclass = y[0]'),\n",
              " Text(0.125, 0.5, 'LowQualFinSF <= 1786.0\\ngini = 0.198\\nsamples = 377\\nvalue = [335, 0, 42]\\nclass = y[0]'),\n",
              " Text(0.0625, 0.3, 'FireplaceQu <= 1996.5\\ngini = 0.155\\nsamples = 354\\nvalue = [324, 0, 30]\\nclass = y[0]'),\n",
              " Text(0.03125, 0.1, 'gini = 0.118\\nsamples = 335\\nvalue = [314, 0, 21]\\nclass = y[0]'),\n",
              " Text(0.09375, 0.1, 'gini = 0.499\\nsamples = 19\\nvalue = [10, 0, 9]\\nclass = y[0]'),\n",
              " Text(0.1875, 0.3, 'GarageType_BuiltIn <= 0.5\\ngini = 0.499\\nsamples = 23\\nvalue = [11, 0, 12]\\nclass = y[2]'),\n",
              " Text(0.15625, 0.1, 'gini = 0.337\\nsamples = 14\\nvalue = [3, 0, 11]\\nclass = y[2]'),\n",
              " Text(0.21875, 0.1, 'gini = 0.198\\nsamples = 9\\nvalue = [8, 0, 1]\\nclass = y[0]'),\n",
              " Text(0.375, 0.5, 'Fireplaces <= 0.5\\ngini = 0.504\\nsamples = 56\\nvalue = [23, 1, 32]\\nclass = y[2]'),\n",
              " Text(0.3125, 0.3, 'BsmtFinType1 <= 284.5\\ngini = 0.384\\nsamples = 27\\nvalue = [20, 0, 7]\\nclass = y[0]'),\n",
              " Text(0.28125, 0.1, 'gini = 0.0\\nsamples = 11\\nvalue = [11, 0, 0]\\nclass = y[0]'),\n",
              " Text(0.34375, 0.1, 'gini = 0.492\\nsamples = 16\\nvalue = [9, 0, 7]\\nclass = y[0]'),\n",
              " Text(0.4375, 0.3, 'RoofMatl_Metal <= 0.5\\ngini = 0.245\\nsamples = 29\\nvalue = [3, 1, 25]\\nclass = y[2]'),\n",
              " Text(0.40625, 0.1, 'gini = 0.137\\nsamples = 27\\nvalue = [2, 0, 25]\\nclass = y[2]'),\n",
              " Text(0.46875, 0.1, 'gini = 0.5\\nsamples = 2\\nvalue = [1, 1, 0]\\nclass = y[0]'),\n",
              " Text(0.75, 0.7, 'LotArea <= 7.5\\ngini = 0.566\\nsamples = 727\\nvalue = [129, 169, 429]\\nclass = y[2]'),\n",
              " Text(0.625, 0.5, 'GarageFinish <= 1.5\\ngini = 0.463\\nsamples = 542\\nvalue = [127, 41, 374]\\nclass = y[2]'),\n",
              " Text(0.5625, 0.3, 'HeatingQC <= 1203.5\\ngini = 0.447\\nsamples = 106\\nvalue = [72, 2, 32]\\nclass = y[0]'),\n",
              " Text(0.53125, 0.1, 'gini = 0.336\\nsamples = 86\\nvalue = [68, 1, 17]\\nclass = y[0]'),\n",
              " Text(0.59375, 0.1, 'gini = 0.395\\nsamples = 20\\nvalue = [4, 1, 15]\\nclass = y[2]'),\n",
              " Text(0.6875, 0.3, 'LowQualFinSF <= 1126.5\\ngini = 0.361\\nsamples = 436\\nvalue = [55, 39, 342]\\nclass = y[2]'),\n",
              " Text(0.65625, 0.1, 'gini = 0.428\\nsamples = 29\\nvalue = [20, 0, 9]\\nclass = y[0]'),\n",
              " Text(0.71875, 0.1, 'gini = 0.314\\nsamples = 407\\nvalue = [35, 39, 333]\\nclass = y[2]'),\n",
              " Text(0.875, 0.5, 'LowQualFinSF <= 1591.5\\ngini = 0.433\\nsamples = 185\\nvalue = [2, 128, 55]\\nclass = y[1]'),\n",
              " Text(0.8125, 0.3, 'KitchenAbvGr <= 4.5\\ngini = 0.382\\nsamples = 35\\nvalue = [0, 9, 26]\\nclass = y[2]'),\n",
              " Text(0.78125, 0.1, 'gini = 0.191\\nsamples = 28\\nvalue = [0, 3, 25]\\nclass = y[2]'),\n",
              " Text(0.84375, 0.1, 'gini = 0.245\\nsamples = 7\\nvalue = [0, 6, 1]\\nclass = y[1]'),\n",
              " Text(0.9375, 0.3, 'HeatingQC <= 1081.0\\ngini = 0.333\\nsamples = 150\\nvalue = [2, 119, 29]\\nclass = y[1]'),\n",
              " Text(0.90625, 0.1, 'gini = 0.512\\nsamples = 18\\nvalue = [1, 6, 11]\\nclass = y[2]'),\n",
              " Text(0.96875, 0.1, 'gini = 0.249\\nsamples = 132\\nvalue = [1, 113, 18]\\nclass = y[1]')]"
            ]
          },
          "execution_count": 29,
          "metadata": {},
          "output_type": "execute_result"
        },
        {
          "data": {
            "image/png": "[encoded data removed]",
            "text/plain": [
              "<Figure size 640x480 with 1 Axes>"
            ]
          },
          "metadata": {},
          "output_type": "display_data"
        }
      ],
      "source": [
        "# Plot the decision tree\n",
        "tree.plot_tree(clf,feature_names=df.columns, class_names=True, filled=True)"
      ]
    },
    {
      "cell_type": "code",
      "execution_count": 30,
      "metadata": {
        "colab": {
          "base_uri": "https://localhost:8080/"
        },
        "id": "eTSj-uB7zyJ8",
        "outputId": "a3655b7d-b8dc-43d2-8e31-fc3c892e69ca"
      },
      "outputs": [
        {
          "name": "stdout",
          "output_type": "stream",
          "text": [
            "Accuracy: 0.845360824742268\n",
            "Precision: 0.852113206973196\n",
            "Recall:  0.845360824742268\n"
          ]
        }
      ],
      "source": [
        "# Print the evaluation metrics\n",
        "print(\"Accuracy:\", accuracy_score(y_test, y_pred))\n",
        "print(\"Precision:\", precision_score(y_test,y_pred,average='weighted') )\n",
        "print(\"Recall: \", recall_score(y_test,y_pred,average='weighted'))"
      ]
    },
    {
      "cell_type": "markdown",
      "metadata": {
        "id": "nCrf8Z3Hsa-d"
      },
      "source": [
        "Se ha evaluado un nuevo modelo de árbol de decisión diseñado para la clasificación de casas en base a su precio, el cual utiliza todas las variables para predecir una nueva variable objetivo. Inicialmente, se ha fijado la profundidad máxima del árbol en 4 niveles.\n",
        "\n",
        "Los resultados obtenidos indican un rendimiento destacado del modelo. La precisión alcanza un valor de 0.85, lo que señala que el 85% de las predicciones son correctas. Además, la exactitud del modelo es del 84%, lo que sugiere que el modelo es preciso en la clasificación general de las casas. Por último, el recall obtenido es de 0.84, lo que indica que el modelo es capaz de identificar correctamente el 84% de las casas que pertenecen a cada categoría."
      ]
    },
    {
      "cell_type": "markdown",
      "metadata": {
        "id": "j7hdA6vLtdhp"
      },
      "source": [
        "##### Confusion Matrix"
      ]
    },
    {
      "cell_type": "code",
      "execution_count": 31,
      "metadata": {
        "colab": {
          "base_uri": "https://localhost:8080/",
          "height": 449
        },
        "id": "WzUug1Dcz8Vr",
        "outputId": "4656812a-32be-46fb-919d-186e63f64fc4"
      },
      "outputs": [
        {
          "data": {
            "image/png": "[encoded data removed]",
            "text/plain": [
              "<Figure size 640x480 with 2 Axes>"
            ]
          },
          "metadata": {},
          "output_type": "display_data"
        }
      ],
      "source": [
        "# Calculate the confusion matrix for the predicted values\n",
        "confusionMatrix = confusion_matrix(y_test, y_pred)\n",
        "\n",
        "# Plot the confusion matrix\n",
        "plt.figure(figsize=(8, 6))  # Adjust the figure size as needed\n",
        "cmDisplay = ConfusionMatrixDisplay(confusion_matrix=confusionMatrix)\n",
        "cmDisplay.plot()\n",
        "plt.show()"
      ]
    },
    {
      "cell_type": "markdown",
      "metadata": {
        "id": "Us5-i-LGuCSy"
      },
      "source": [
        "- Para la clase 0 (casas económicas), se clasificaron correctamente 114 casos.\n",
        "- Para la clase 1 (casas de gama media), se clasificaron correctamente 33 casos.\n",
        "- Para la clase 2 (casas de gama alta), se clasificaron correctamente 99 casos.\n",
        "\n",
        "Por otro lado, en cuanto al análisis de equivocaciones del modelo, vemos que:\n",
        "- El modelo se equivocó más en la predicción de casas de gama alta (clase 2), donde clasificó incorrectamente 17 casos como clase 0 y 14 casos como clase 1.\n",
        "- El modelo se equivocó menos en la predicción de casas de gama media (clase 1), donde solo clasificó incorrectamente 13 casos como clase 0 y 1 caso como clase 2."
      ]
    },
    {
      "cell_type": "markdown",
      "metadata": {
        "id": "iUDXfVQnv6y3"
      },
      "source": [
        "Bajo este contexto, la importancia de errores en la clasificación de clases radica en representar pérdidas financieras u oportunidades perdidas para captar clientes de alto valor."
      ]
    },
    {
      "cell_type": "markdown",
      "metadata": {
        "id": "GFy7SK-KwclM"
      },
      "source": [
        "### Third Iteration Using Cross Validation"
      ]
    },
    {
      "cell_type": "code",
      "execution_count": 37,
      "metadata": {
        "colab": {
          "base_uri": "https://localhost:8080/"
        },
        "id": "eet3UkdatjJU",
        "outputId": "4fc0f7d9-b3bf-4ee3-b66d-1501adf39e7b"
      },
      "outputs": [
        {
          "name": "stdout",
          "output_type": "stream",
          "text": [
            "Depth\tMean Score\n",
            "-------------------\n",
            "4\t0.791\n",
            "5\t0.797\n",
            "6\t0.791\n",
            "7\t0.787\n",
            "8\t0.791\n",
            "9\t0.782\n",
            "10\t0.789\n",
            "11\t0.779\n",
            "12\t0.784\n",
            "13\t0.782\n",
            "14\t0.786\n"
          ]
        }
      ],
      "source": [
        "# Initialize an empty list to store depth and mean score tuples\n",
        "depth = []\n",
        "\n",
        "# Iterate over a range of depths from 4 to 14\n",
        "for i in range(4, 15):\n",
        "    # Create a DecisionTreeClassifier with the current depth\n",
        "    clf = tree.DecisionTreeClassifier(max_depth=i)\n",
        "    \n",
        "    # Perform cross-validation and calculate mean score\n",
        "    scores = cross_val_score(estimator=clf, X=X, y=y, n_jobs=4)\n",
        "    \n",
        "    # Append depth and mean score tuple to the list\n",
        "    depth.append((i, scores.mean()))\n",
        "\n",
        "# Print depth and mean score for each tuple in the list\n",
        "print(\"Depth\\tMean Score\")\n",
        "print(\"-------------------\")\n",
        "for d, score in depth:\n",
        "    print(f\"{d}\\t{score:.3f}\")"
      ]
    },
    {
      "cell_type": "markdown",
      "metadata": {
        "id": "CaiNrnJlx1_F"
      },
      "source": [
        "Después de realizar la validación cruzada, se ha observado que el mejor rendimiento se obtiene con un árbol de decisión de una profundidad máxima de 5 niveles. Este modelo específico exhibe un puntaje medio de 0.798, superando a varios otros árboles generados con profundidades mayores. Es crucial destacar que una profundidad de 5 es óptima ya que proporciona un equilibrio entre complejidad y capacidad de generalización sin caer en la posibilidad de sufrir o experimentar sobreajuste.\n",
        "\n",
        "Sin embargo, al comparar este resultado con el obtenido en la iteración anterior, se evidencia que no logra superarlo. A pesar de su buen desempeño, parece que el modelo generado en la iteración anterior ha logrado obtener un rendimiento superior en términos de precisión."
      ]
    },
    {
      "cell_type": "markdown",
      "metadata": {
        "id": "zj9kEBjMzm_d"
      },
      "source": [
        "### Fourth Iteration Using Random Forest"
      ]
    },
    {
      "cell_type": "code",
      "execution_count": 41,
      "metadata": {
        "colab": {
          "base_uri": "https://localhost:8080/"
        },
        "id": "ys8K9yP0xhvG",
        "outputId": "278584e5-847b-4b7c-ac07-1c14e5dd5bb2"
      },
      "outputs": [
        {
          "name": "stdout",
          "output_type": "stream",
          "text": [
            "Results for max_depth=4:\n",
            "Best parameters: {'max_depth': 4}\n",
            "Best cross-validation score: 0.8189655172413793\n",
            "------------------------------------------------\n",
            "Results for max_depth=5:\n",
            "Best parameters: {'max_depth': 5}\n",
            "Best cross-validation score: 0.8232758620689655\n",
            "------------------------------------------------\n",
            "Results for max_depth=6:\n",
            "Best parameters: {'max_depth': 6}\n",
            "Best cross-validation score: 0.8310344827586207\n",
            "------------------------------------------------\n",
            "Results for max_depth=7:\n",
            "Best parameters: {'max_depth': 7}\n",
            "Best cross-validation score: 0.8448275862068965\n",
            "------------------------------------------------\n",
            "Results for max_depth=8:\n",
            "Best parameters: {'max_depth': 8}\n",
            "Best cross-validation score: 0.8543103448275863\n",
            "------------------------------------------------\n",
            "Results for max_depth=9:\n",
            "Best parameters: {'max_depth': 9}\n",
            "Best cross-validation score: 0.8551724137931034\n",
            "------------------------------------------------\n",
            "Results for max_depth=10:\n",
            "Best parameters: {'max_depth': 10}\n",
            "Best cross-validation score: 0.8560344827586206\n",
            "------------------------------------------------\n",
            "Results for max_depth=11:\n",
            "Best parameters: {'max_depth': 11}\n",
            "Best cross-validation score: 0.8560344827586206\n",
            "------------------------------------------------\n",
            "Results for max_depth=12:\n",
            "Best parameters: {'max_depth': 12}\n",
            "Best cross-validation score: 0.8594827586206897\n",
            "------------------------------------------------\n",
            "Results for max_depth=13:\n",
            "Best parameters: {'max_depth': 13}\n",
            "Best cross-validation score: 0.8534482758620688\n",
            "------------------------------------------------\n",
            "Results for max_depth=14:\n",
            "Best parameters: {'max_depth': 14}\n",
            "Best cross-validation score: 0.8560344827586206\n",
            "------------------------------------------------\n"
          ]
        }
      ],
      "source": [
        "# Initialize a RandomForestClassifier with 100 estimators\n",
        "rf = RandomForestClassifier(n_estimators=100)\n",
        "\n",
        "# Iterate over a range of depths from 4 to 14\n",
        "for depth in range(4, 15):\n",
        "    # Define parameter grid for grid search with current depth\n",
        "    param_grid = {'max_depth': [depth]}\n",
        "    \n",
        "    # Perform grid search with 5-fold cross-validation\n",
        "    grid_search = GridSearchCV(rf, param_grid, cv=5, scoring='accuracy')\n",
        "    grid_search.fit(X_train, y_train)\n",
        "\n",
        "    # Print results for the current depth\n",
        "    print(f\"Results for max_depth={depth}:\")\n",
        "    print(\"Best parameters:\", grid_search.best_params_)\n",
        "    print(\"Best cross-validation score:\", grid_search.best_score_)\n",
        "\n",
        "    # Display grid search results\n",
        "    results = pd.DataFrame(grid_search.cv_results_)\n",
        "    print(\"------------------------------------------------\")"
      ]
    },
    {
      "cell_type": "markdown",
      "metadata": {
        "id": "gf-H8TCc1GaO"
      },
      "source": [
        "Al emplear Random Forest, una técnica que utiliza múltiples árboles de decisión en lugar de uno solo, se observa un aumento significativo en la precisión del modelo para todas las profundidades consideradas, que van desde 4 hasta 14. Por ejemplo, en el caso de una profundidad de 4, la precisión aumenta de 0.797 a 0.823."
      ]
    },
    {
      "cell_type": "markdown",
      "metadata": {
        "id": "FtfcN3gg1xHy"
      },
      "source": [
        "Este aumento en la precisión indica que Random Forest es capaz de capturar patrones más complejos y variabilidad en los datos en comparación con un solo árbol de decisión. Al combinar múltiples árboles y promediar sus predicciones, Random Forest reduce el impacto del sobreajuste y mejora la capacidad de generalización del modelo"
      ]
    },
    {
      "cell_type": "markdown",
      "metadata": {
        "id": "NqeJKd6t14tm"
      },
      "source": [
        "Una vez más, se postula que el mejor rendimiento se obtiene con una profundidad de 5 en el modelo de Random Forest. Esta selección proporciona una precisión considerablemente alta (0.824) y, al mismo tiempo, mitiga el riesgo de sobreajuste del modelo."
      ]
    },
    {
      "cell_type": "markdown",
      "metadata": {
        "id": "MVOEiBf42U1s"
      },
      "source": [
        "### Final Opinions"
      ]
    },
    {
      "cell_type": "code",
      "execution_count": 46,
      "metadata": {
        "colab": {
          "base_uri": "https://localhost:8080/",
          "height": 566
        },
        "id": "G1NaF8rVz_TJ",
        "outputId": "05fe4006-ee52-4024-8099-b5c72a3d1687"
      },
      "outputs": [
        {
          "data": {
            "image/png": "[encoded data removed]",
            "text/plain": [
              "<Figure size 1000x600 with 1 Axes>"
            ]
          },
          "metadata": {},
          "output_type": "display_data"
        }
      ],
      "source": [
        "# Data for the graph\n",
        "x_dataGraph = ['Simple Classification Tree', 'Tree With Cross Validation', 'Random Forest']\n",
        "accuracyDataGraph = [0.84, 0.797, 0.82]\n",
        "\n",
        "# Plot settings\n",
        "plt.figure(figsize=(10, 6))\n",
        "sns.barplot(x=x_dataGraph, y=accuracyDataGraph, hue=x_dataGraph, palette=\"viridis\")\n",
        "plt.title('Accuracy for each Decision Tree Model with Depth 5', fontsize=14)\n",
        "plt.xlabel('Decision Tree Models', fontsize=11)\n",
        "plt.ylabel('Accuracy', fontsize=11)\n",
        "plt.ylim(0.75, 0.85)\n",
        "plt.grid(axis='y', linestyle='--', alpha=0.7)\n",
        "plt.xticks(fontsize=10)\n",
        "plt.yticks(fontsize=10)\n",
        "\n",
        "# Add accuracy values on top of the bars\n",
        "for i, v in enumerate(accuracyDataGraph):\n",
        "    plt.text(i, v + 0.005, str(v), ha='center', va='bottom', fontsize=12)\n",
        "\n",
        "plt.show()"
      ]
    },
    {
      "cell_type": "markdown",
      "metadata": {
        "id": "vvdwYLbh4Hcg"
      },
      "source": [
        "1. Árbol de Clasificación Simple:\n",
        "> Precisión: 0.84 <br> Este enfoque muestra la precisión más alta entre los tres modelos considerados.\n",
        "\n",
        "2. Árbol de Clasificación con Validación Cruzada:\n",
        "> Precisión: 0.797 <br> Aunque la precisión es ligeramente menor que la del primer modelo, el uso de validación cruzada sugiere una evaluación más robusta del modelo, lo que mitiga el riesgo de sobreajuste.\n",
        "\n",
        "3. Random Forest:\n",
        "> Precisión: 0.82 <br>Este enfoque ofrece una precisión situada entre los dos modelos anteriores. La técnica de Random Forest, al combinar múltiples árboles de decisión, mejora la precisión al capturar una mayor diversidad de características y reducir el riesgo de sobreajuste.\n"
      ]
    },
    {
      "cell_type": "markdown",
      "metadata": {
        "id": "A1l4ovRS5sWX"
      },
      "source": [
        "En conclusión, el modelo más destacado es el construido mediante Random Forest, debido a su alta precisión y capacidad para reducir notablemente el riesgo de sobreajuste"
      ]
    }
  ],
  "metadata": {
    "colab": {
      "collapsed_sections": [
        "wLk1GAYogb0S",
        "hkGU39THiidX",
        "McuHnYtmjGpL",
        "YM_nK9DEjpmk",
        "8GPNILuloaSm",
        "VymsSe-1gb0W",
        "qA0IU3u_gb0g",
        "WdMvxRLDgb0l",
        "-D01B6KXvy2Q"
      ],
      "provenance": []
    },
    "kernelspec": {
      "display_name": "env",
      "language": "python",
      "name": "python3"
    },
    "language_info": {
      "codemirror_mode": {
        "name": "ipython",
        "version": 3
      },
      "file_extension": ".py",
      "mimetype": "text/x-python",
      "name": "python",
      "nbconvert_exporter": "python",
      "pygments_lexer": "ipython3",
      "version": "3.12.0"
    }
  },
  "nbformat": 4,
  "nbformat_minor": 0
}
